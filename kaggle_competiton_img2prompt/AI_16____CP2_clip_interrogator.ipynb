{
 "cells": [
  {
   "cell_type": "code",
   "execution_count": 1,
   "id": "c83b6887",
   "metadata": {
    "execution": {
     "iopub.execute_input": "2023-04-14T08:34:39.698835Z",
     "iopub.status.busy": "2023-04-14T08:34:39.698332Z",
     "iopub.status.idle": "2023-04-14T08:35:02.219353Z",
     "shell.execute_reply": "2023-04-14T08:35:02.218062Z"
    },
    "papermill": {
     "duration": 22.533012,
     "end_time": "2023-04-14T08:35:02.221888",
     "exception": false,
     "start_time": "2023-04-14T08:34:39.688876",
     "status": "completed"
    },
    "tags": []
   },
   "outputs": [
    {
     "name": "stdout",
     "output_type": "stream",
     "text": [
      "\u001b[33mWARNING: Running pip as the 'root' user can result in broken permissions and conflicting behaviour with the system package manager. It is recommended to use a virtual environment instead: https://pip.pypa.io/warnings/venv\u001b[0m\u001b[33m\r\n",
      "\u001b[0m"
     ]
    }
   ],
   "source": [
    "import torch\n",
    "import sys\n",
    "from pathlib import Path\n",
    "import pandas as pd\n",
    "import os\n",
    "import numpy as np\n",
    "from PIL import Image\n",
    "\n",
    "wheels_path = \"/kaggle/input/clip-interrogator-wheels-x\"\n",
    "clip_interrogator_whl_path = f\"{wheels_path}/clip_interrogator-0.4.3-py3-none-any.whl\"\n",
    "!pip install --no-index --find-links $wheels_path $clip_interrogator_whl_path -q"
   ]
  },
  {
   "cell_type": "code",
   "execution_count": 2,
   "id": "4f16924b",
   "metadata": {
    "execution": {
     "iopub.execute_input": "2023-04-14T08:35:02.237867Z",
     "iopub.status.busy": "2023-04-14T08:35:02.236915Z",
     "iopub.status.idle": "2023-04-14T08:35:11.662238Z",
     "shell.execute_reply": "2023-04-14T08:35:11.661040Z"
    },
    "papermill": {
     "duration": 9.435697,
     "end_time": "2023-04-14T08:35:11.664886",
     "exception": false,
     "start_time": "2023-04-14T08:35:02.229189",
     "status": "completed"
    },
    "tags": []
   },
   "outputs": [
    {
     "name": "stdout",
     "output_type": "stream",
     "text": [
      "\u001b[33mWARNING: Running pip as the 'root' user can result in broken permissions and conflicting behaviour with the system package manager. It is recommended to use a virtual environment instead: https://pip.pypa.io/warnings/venv\u001b[0m\u001b[33m\r\n",
      "\u001b[0m"
     ]
    }
   ],
   "source": [
    "!pip install --no-index --find-links $wheels_path $clip_interrogator_whl_path -q"
   ]
  },
  {
   "cell_type": "code",
   "execution_count": 3,
   "id": "69c581a1",
   "metadata": {
    "execution": {
     "iopub.execute_input": "2023-04-14T08:35:11.680147Z",
     "iopub.status.busy": "2023-04-14T08:35:11.679781Z",
     "iopub.status.idle": "2023-04-14T08:37:41.507463Z",
     "shell.execute_reply": "2023-04-14T08:37:41.506233Z"
    },
    "papermill": {
     "duration": 149.838293,
     "end_time": "2023-04-14T08:37:41.510053",
     "exception": false,
     "start_time": "2023-04-14T08:35:11.671760",
     "status": "completed"
    },
    "tags": []
   },
   "outputs": [
    {
     "name": "stdout",
     "output_type": "stream",
     "text": [
      "Requirement already satisfied: torch in /opt/conda/lib/python3.7/site-packages (1.13.0)\r\n",
      "\u001b[33mWARNING: Retrying (Retry(total=4, connect=None, read=None, redirect=None, status=None)) after connection broken by 'NewConnectionError('<pip._vendor.urllib3.connection.HTTPSConnection object at 0x72b74f1443d0>: Failed to establish a new connection: [Errno -3] Temporary failure in name resolution')': /simple/clip/\u001b[0m\u001b[33m\r\n",
      "\u001b[0m\u001b[33mWARNING: Retrying (Retry(total=3, connect=None, read=None, redirect=None, status=None)) after connection broken by 'NewConnectionError('<pip._vendor.urllib3.connection.HTTPSConnection object at 0x72b74f1390d0>: Failed to establish a new connection: [Errno -3] Temporary failure in name resolution')': /simple/clip/\u001b[0m\u001b[33m\r\n",
      "\u001b[0m\u001b[33mWARNING: Retrying (Retry(total=2, connect=None, read=None, redirect=None, status=None)) after connection broken by 'NewConnectionError('<pip._vendor.urllib3.connection.HTTPSConnection object at 0x72b74f139690>: Failed to establish a new connection: [Errno -3] Temporary failure in name resolution')': /simple/clip/\u001b[0m\u001b[33m\r\n",
      "\u001b[0m\u001b[33mWARNING: Retrying (Retry(total=1, connect=None, read=None, redirect=None, status=None)) after connection broken by 'NewConnectionError('<pip._vendor.urllib3.connection.HTTPSConnection object at 0x72b74f139a50>: Failed to establish a new connection: [Errno -3] Temporary failure in name resolution')': /simple/clip/\u001b[0m\u001b[33m\r\n",
      "\u001b[0m\u001b[33mWARNING: Retrying (Retry(total=0, connect=None, read=None, redirect=None, status=None)) after connection broken by 'NewConnectionError('<pip._vendor.urllib3.connection.HTTPSConnection object at 0x72b74f139e10>: Failed to establish a new connection: [Errno -3] Temporary failure in name resolution')': /simple/clip/\u001b[0m\u001b[33m\r\n",
      "\u001b[0m\u001b[31mERROR: Could not find a version that satisfies the requirement clip (from versions: none)\u001b[0m\u001b[31m\r\n",
      "\u001b[0m\u001b[31mERROR: No matching distribution found for clip\u001b[0m\u001b[31m\r\n",
      "\u001b[0m\u001b[33mWARNING: There was an error checking the latest version of pip.\u001b[0m\u001b[33m\r\n",
      "\u001b[0m"
     ]
    }
   ],
   "source": [
    "!pip install torch clip"
   ]
  },
  {
   "cell_type": "code",
   "execution_count": 4,
   "id": "1b777c3c",
   "metadata": {
    "execution": {
     "iopub.execute_input": "2023-04-14T08:37:41.527790Z",
     "iopub.status.busy": "2023-04-14T08:37:41.526870Z",
     "iopub.status.idle": "2023-04-14T08:37:41.594045Z",
     "shell.execute_reply": "2023-04-14T08:37:41.593036Z"
    },
    "papermill": {
     "duration": 0.079535,
     "end_time": "2023-04-14T08:37:41.596741",
     "exception": false,
     "start_time": "2023-04-14T08:37:41.517206",
     "status": "completed"
    },
    "tags": []
   },
   "outputs": [],
   "source": [
    "import torch\n",
    "import sys\n",
    "from pathlib import Path\n",
    "import pandas as pd\n",
    "import os\n",
    "import numpy as np\n",
    "from PIL import Image\n",
    "def make_batches(l, batch_size=16):\n",
    "    for i in range(0, len(l), batch_size):\n",
    "        yield l[i:i + batch_size]\n",
    "\n",
    "path = Path('../input/stable-diffusion-image-to-prompts/')\n",
    "# sample_submission = pd.read_csv(path / 'sample_submission.csv', index_col='imgId_eId')\n",
    "images = os.listdir(path/\"images\")\n",
    "# image_ids = [i.split('.')[0] for i in images]\n",
    "\n",
    "device = \"cuda\" if torch.cuda.is_available() else \"cpu\""
   ]
  },
  {
   "cell_type": "code",
   "execution_count": 5,
   "id": "24f38d0c",
   "metadata": {
    "execution": {
     "iopub.execute_input": "2023-04-14T08:37:41.612590Z",
     "iopub.status.busy": "2023-04-14T08:37:41.611760Z",
     "iopub.status.idle": "2023-04-14T08:38:04.587162Z",
     "shell.execute_reply": "2023-04-14T08:38:04.585933Z"
    },
    "papermill": {
     "duration": 22.986057,
     "end_time": "2023-04-14T08:38:04.589913",
     "exception": false,
     "start_time": "2023-04-14T08:37:41.603856",
     "status": "completed"
    },
    "tags": []
   },
   "outputs": [
    {
     "name": "stdout",
     "output_type": "stream",
     "text": [
      "transformers                           4.15.0\r\n",
      "\u001b[33mWARNING: There was an error checking the latest version of pip.\u001b[0m\u001b[33m\r\n",
      "\u001b[0m"
     ]
    }
   ],
   "source": [
    "!pip list | grep transformers"
   ]
  },
  {
   "cell_type": "code",
   "execution_count": 6,
   "id": "bc47b8dc",
   "metadata": {
    "execution": {
     "iopub.execute_input": "2023-04-14T08:38:04.606687Z",
     "iopub.status.busy": "2023-04-14T08:38:04.605762Z",
     "iopub.status.idle": "2023-04-14T08:38:04.612027Z",
     "shell.execute_reply": "2023-04-14T08:38:04.611190Z"
    },
    "papermill": {
     "duration": 0.016852,
     "end_time": "2023-04-14T08:38:04.614132",
     "exception": false,
     "start_time": "2023-04-14T08:38:04.597280",
     "status": "completed"
    },
    "tags": []
   },
   "outputs": [],
   "source": [
    "class CFG:\n",
    "    device = \"cuda\"\n",
    "    seed = 42\n",
    "    embedding_length = 384\n",
    "    sentence_model_path = \"/kaggle/input/sentence-transformers-222/all-MiniLM-L6-v2\"\n",
    "    blip_model_path = \"/kaggle/input/clip-interrogator-models-x/model_large_caption.pth\"\n",
    "    ci_clip_model_name = \"ViT-H-14/laion2b_s32b_b79k\"\n",
    "    clip_model_name = \"ViT-H-14\"\n",
    "    clip_model_path = \"/kaggle/input/clip-interrogator-models-x/CLIP-ViT-H-14-laion2B-s32B-b79K/open_clip_pytorch_model.bin\"\n",
    "    cache_path = \"/kaggle/input/clip-interrogator-models-x\"\n"
   ]
  },
  {
   "cell_type": "code",
   "execution_count": 7,
   "id": "9ed4fa5b",
   "metadata": {
    "execution": {
     "iopub.execute_input": "2023-04-14T08:38:04.630223Z",
     "iopub.status.busy": "2023-04-14T08:38:04.629343Z",
     "iopub.status.idle": "2023-04-14T08:38:06.093018Z",
     "shell.execute_reply": "2023-04-14T08:38:06.091827Z"
    },
    "papermill": {
     "duration": 1.474416,
     "end_time": "2023-04-14T08:38:06.095745",
     "exception": false,
     "start_time": "2023-04-14T08:38:04.621329",
     "status": "completed"
    },
    "tags": []
   },
   "outputs": [],
   "source": [
    "import open_clip\n",
    "import inspect\n",
    "import importlib\n",
    "\n",
    "from blip.models import blip\n",
    "from clip_interrogator import clip_interrogator\n",
    "from PIL import Image\n",
    "import torchvision.transforms as transforms\n",
    "\n"
   ]
  },
  {
   "cell_type": "code",
   "execution_count": 8,
   "id": "23171be5",
   "metadata": {
    "execution": {
     "iopub.execute_input": "2023-04-14T08:38:06.112420Z",
     "iopub.status.busy": "2023-04-14T08:38:06.111687Z",
     "iopub.status.idle": "2023-04-14T08:38:09.657797Z",
     "shell.execute_reply": "2023-04-14T08:38:09.656756Z"
    },
    "papermill": {
     "duration": 3.557229,
     "end_time": "2023-04-14T08:38:09.660348",
     "exception": false,
     "start_time": "2023-04-14T08:38:06.103119",
     "status": "completed"
    },
    "tags": []
   },
   "outputs": [],
   "source": [
    "sys.path.append('../input/sentence-transformers-222/sentence-transformers')\n",
    "from sentence_transformers import SentenceTransformer, models\n",
    "\n",
    "st_model = SentenceTransformer(CFG.sentence_model_path)"
   ]
  },
  {
   "cell_type": "code",
   "execution_count": 9,
   "id": "a9b473fe",
   "metadata": {
    "execution": {
     "iopub.execute_input": "2023-04-14T08:38:09.677344Z",
     "iopub.status.busy": "2023-04-14T08:38:09.676458Z",
     "iopub.status.idle": "2023-04-14T08:38:09.690553Z",
     "shell.execute_reply": "2023-04-14T08:38:09.689620Z"
    },
    "papermill": {
     "duration": 0.025107,
     "end_time": "2023-04-14T08:38:09.692779",
     "exception": false,
     "start_time": "2023-04-14T08:38:09.667672",
     "status": "completed"
    },
    "tags": []
   },
   "outputs": [
    {
     "data": {
      "text/plain": [
       "<module 'blip.models.blip' from '/opt/conda/lib/python3.7/site-packages/blip/models/blip.py'>"
      ]
     },
     "execution_count": 9,
     "metadata": {},
     "output_type": "execute_result"
    }
   ],
   "source": [
    "# replace tokenizer path to prevent downloading\n",
    "# blip 모델 모듈 대체\n",
    "blip_path = inspect.getfile(blip)\n",
    "\n",
    "fin = open(blip_path, \"rt\")\n",
    "data = fin.read()\n",
    "data = data.replace(\n",
    "    \"BertTokenizer.from_pretrained('bert-base-uncased')\", \n",
    "    \"BertTokenizer.from_pretrained('/kaggle/input/clip-interrogator-models-x/bert-base-uncased')\"\n",
    ")\n",
    "fin.close()\n",
    "\n",
    "fin = open(blip_path, \"wt\")\n",
    "fin.write(data)\n",
    "fin.close()\n",
    "\n",
    "# reload module\n",
    "importlib.reload(blip)"
   ]
  },
  {
   "cell_type": "code",
   "execution_count": 10,
   "id": "8f8fd665",
   "metadata": {
    "execution": {
     "iopub.execute_input": "2023-04-14T08:38:09.713271Z",
     "iopub.status.busy": "2023-04-14T08:38:09.712156Z",
     "iopub.status.idle": "2023-04-14T08:38:09.735687Z",
     "shell.execute_reply": "2023-04-14T08:38:09.734598Z"
    },
    "papermill": {
     "duration": 0.037879,
     "end_time": "2023-04-14T08:38:09.737914",
     "exception": false,
     "start_time": "2023-04-14T08:38:09.700035",
     "status": "completed"
    },
    "tags": []
   },
   "outputs": [
    {
     "data": {
      "text/plain": [
       "<module 'clip_interrogator.clip_interrogator' from '/opt/conda/lib/python3.7/site-packages/clip_interrogator/clip_interrogator.py'>"
      ]
     },
     "execution_count": 10,
     "metadata": {},
     "output_type": "execute_result"
    }
   ],
   "source": [
    "# fix clip_interrogator bug\n",
    "clip_interrogator_path = inspect.getfile(clip_interrogator.Interrogator)\n",
    "\n",
    "fin = open(clip_interrogator_path, \"rt\")\n",
    "data = fin.read()\n",
    "data = data.replace(\n",
    "    'open_clip.get_tokenizer(clip_model_name)', \n",
    "    'open_clip.get_tokenizer(config.clip_model_name.split(\"/\", 2)[0])'\n",
    ")\n",
    "fin.close()\n",
    "\n",
    "fin = open(clip_interrogator_path, \"wt\")\n",
    "fin.write(data)\n",
    "fin.close()\n",
    "\n",
    "# reload module\n",
    "importlib.reload(clip_interrogator)"
   ]
  },
  {
   "cell_type": "code",
   "execution_count": 11,
   "id": "870fc61d",
   "metadata": {
    "execution": {
     "iopub.execute_input": "2023-04-14T08:38:09.753820Z",
     "iopub.status.busy": "2023-04-14T08:38:09.753546Z",
     "iopub.status.idle": "2023-04-14T08:38:09.757839Z",
     "shell.execute_reply": "2023-04-14T08:38:09.756875Z"
    },
    "papermill": {
     "duration": 0.01468,
     "end_time": "2023-04-14T08:38:09.760087",
     "exception": false,
     "start_time": "2023-04-14T08:38:09.745407",
     "status": "completed"
    },
    "tags": []
   },
   "outputs": [],
   "source": [
    "# Step 1: Config 객체 생성\n",
    "model_config = clip_interrogator.Config(clip_model_name=CFG.ci_clip_model_name)\n",
    "model_config.cache_path = CFG.cache_path"
   ]
  },
  {
   "cell_type": "code",
   "execution_count": 12,
   "id": "29dddf28",
   "metadata": {
    "execution": {
     "iopub.execute_input": "2023-04-14T08:38:09.775713Z",
     "iopub.status.busy": "2023-04-14T08:38:09.775452Z",
     "iopub.status.idle": "2023-04-14T08:38:38.715900Z",
     "shell.execute_reply": "2023-04-14T08:38:38.714756Z"
    },
    "papermill": {
     "duration": 28.951072,
     "end_time": "2023-04-14T08:38:38.718527",
     "exception": false,
     "start_time": "2023-04-14T08:38:09.767455",
     "status": "completed"
    },
    "tags": []
   },
   "outputs": [
    {
     "name": "stdout",
     "output_type": "stream",
     "text": [
      "load checkpoint from /kaggle/input/clip-interrogator-models-x/model_large_caption.pth\n"
     ]
    }
   ],
   "source": [
    "configs_path = os.path.join(os.path.dirname(os.path.dirname(blip_path)), 'configs')\n",
    "med_config = os.path.join(configs_path, 'med_config.json')\n",
    "blip_model = blip.blip_decoder(\n",
    "    pretrained=CFG.blip_model_path,\n",
    "    image_size=model_config.blip_image_eval_size, \n",
    "    vit=model_config.blip_model_type, \n",
    "    med_config=med_config\n",
    ")\n",
    "blip_model.eval()\n",
    "blip_model = blip_model.to(model_config.device)\n",
    "model_config.blip_model = blip_model"
   ]
  },
  {
   "cell_type": "code",
   "execution_count": 13,
   "id": "3088eedf",
   "metadata": {
    "execution": {
     "iopub.execute_input": "2023-04-14T08:38:38.735458Z",
     "iopub.status.busy": "2023-04-14T08:38:38.734784Z",
     "iopub.status.idle": "2023-04-14T08:39:24.250897Z",
     "shell.execute_reply": "2023-04-14T08:39:24.249796Z"
    },
    "papermill": {
     "duration": 45.527545,
     "end_time": "2023-04-14T08:39:24.253815",
     "exception": false,
     "start_time": "2023-04-14T08:38:38.726270",
     "status": "completed"
    },
    "tags": []
   },
   "outputs": [],
   "source": [
    "# CLIP 모델 생성\n",
    "clip_model = open_clip.create_model(CFG.clip_model_name, precision='fp16' if model_config.device == 'cuda' else 'fp32')\n",
    "\n",
    "# #학습된 모델 불러오기\n",
    "open_clip.load_checkpoint(clip_model, CFG.clip_model_path)\n",
    "clip_model.to(model_config.device).eval()\n",
    "model_config.clip_model = clip_model"
   ]
  },
  {
   "cell_type": "code",
   "execution_count": 14,
   "id": "0c788da9",
   "metadata": {
    "execution": {
     "iopub.execute_input": "2023-04-14T08:39:24.271114Z",
     "iopub.status.busy": "2023-04-14T08:39:24.270745Z",
     "iopub.status.idle": "2023-04-14T08:39:24.278009Z",
     "shell.execute_reply": "2023-04-14T08:39:24.277098Z"
    },
    "papermill": {
     "duration": 0.018152,
     "end_time": "2023-04-14T08:39:24.280152",
     "exception": false,
     "start_time": "2023-04-14T08:39:24.262000",
     "status": "completed"
    },
    "tags": []
   },
   "outputs": [],
   "source": [
    "clip_preprocess = transforms.Compose([\n",
    "     transforms.Resize((224, 224)),\n",
    "     transforms.CenterCrop(224),\n",
    "    transforms.ToTensor(),\n",
    "    transforms.Normalize(\n",
    "         mean=[0.5, 0.5, 0.5],\n",
    "         std=[0.5, 0.5, 0.5]\n",
    "        #transforms.Normalize((0.48145466, 0.4578275, 0.40821073), (0.26862954, 0.26130258, 0.27577711))\n",
    "     )\n",
    " ])\n",
    "model_config.clip_preprocess = clip_preprocess\n",
    "# # transforms.Normalize(\n",
    "# #         mean=[0.5, 0.5, 0.5],\n",
    "# #         std=[0.229, 0.224, 0.225]"
   ]
  },
  {
   "cell_type": "code",
   "execution_count": 15,
   "id": "6b63d7e1",
   "metadata": {
    "execution": {
     "iopub.execute_input": "2023-04-14T08:39:24.296431Z",
     "iopub.status.busy": "2023-04-14T08:39:24.295624Z",
     "iopub.status.idle": "2023-04-14T08:39:24.300231Z",
     "shell.execute_reply": "2023-04-14T08:39:24.299241Z"
    },
    "papermill": {
     "duration": 0.014944,
     "end_time": "2023-04-14T08:39:24.302423",
     "exception": false,
     "start_time": "2023-04-14T08:39:24.287479",
     "status": "completed"
    },
    "tags": []
   },
   "outputs": [],
   "source": [
    "# import open_clip\n",
    "# clip_preprocess = open_clip.image_transform(\n",
    "#      clip_model.visual.image_size,\n",
    "#      is_train = False,\n",
    "#      mean = getattr(clip_model.visual, 'image_mean', None),\n",
    "#      std = getattr(clip_model.visual, 'image_std', None),\n",
    "#  )\n",
    "# model_config.clip_preprocess = clip_preprocess"
   ]
  },
  {
   "cell_type": "code",
   "execution_count": 16,
   "id": "a1a05293",
   "metadata": {
    "execution": {
     "iopub.execute_input": "2023-04-14T08:39:24.318330Z",
     "iopub.status.busy": "2023-04-14T08:39:24.317933Z",
     "iopub.status.idle": "2023-04-14T08:39:26.422417Z",
     "shell.execute_reply": "2023-04-14T08:39:26.421282Z"
    },
    "papermill": {
     "duration": 2.114924,
     "end_time": "2023-04-14T08:39:26.424854",
     "exception": false,
     "start_time": "2023-04-14T08:39:24.309930",
     "status": "completed"
    },
    "tags": []
   },
   "outputs": [
    {
     "name": "stdout",
     "output_type": "stream",
     "text": [
      "Loaded CLIP model and data in 2.10 seconds.\n"
     ]
    }
   ],
   "source": [
    "# Step 2: Interrogator 객체 생성\n",
    "ci = clip_interrogator.Interrogator(model_config)"
   ]
  },
  {
   "cell_type": "code",
   "execution_count": 17,
   "id": "175f0978",
   "metadata": {
    "execution": {
     "iopub.execute_input": "2023-04-14T08:39:26.443657Z",
     "iopub.status.busy": "2023-04-14T08:39:26.442502Z",
     "iopub.status.idle": "2023-04-14T08:39:26.447820Z",
     "shell.execute_reply": "2023-04-14T08:39:26.446725Z"
    },
    "papermill": {
     "duration": 0.016869,
     "end_time": "2023-04-14T08:39:26.450196",
     "exception": false,
     "start_time": "2023-04-14T08:39:26.433327",
     "status": "completed"
    },
    "tags": []
   },
   "outputs": [],
   "source": [
    "# Step 3: 프롬프트로 바꿀 이미지 로드\n",
    "#image = Image.open(\"/kaggle/input/stable-diffusion-image-to-prompts/images/20057f34d.png\")"
   ]
  },
  {
   "cell_type": "markdown",
   "id": "5a30de5f",
   "metadata": {
    "papermill": {
     "duration": 0.00769,
     "end_time": "2023-04-14T08:39:26.465412",
     "exception": false,
     "start_time": "2023-04-14T08:39:26.457722",
     "status": "completed"
    },
    "tags": []
   },
   "source": [
    "# **참고**\n",
    "\n",
    "> https://github.com/pharmapsychotic/clip-interrogator/blob/main/clip_interrogator/clip_interrogator.py#L213"
   ]
  },
  {
   "cell_type": "code",
   "execution_count": 18,
   "id": "199cb5d4",
   "metadata": {
    "execution": {
     "iopub.execute_input": "2023-04-14T08:39:26.482097Z",
     "iopub.status.busy": "2023-04-14T08:39:26.481769Z",
     "iopub.status.idle": "2023-04-14T08:39:26.488118Z",
     "shell.execute_reply": "2023-04-14T08:39:26.486909Z"
    },
    "papermill": {
     "duration": 0.017673,
     "end_time": "2023-04-14T08:39:26.490727",
     "exception": false,
     "start_time": "2023-04-14T08:39:26.473054",
     "status": "completed"
    },
    "tags": []
   },
   "outputs": [],
   "source": [
    "def image_to_features(image: Image) -> torch.Tensor:\n",
    "        ci._prepare_clip()\n",
    "        images = ci.clip_preprocess(image).unsqueeze(0).to(ci.device)\n",
    "        with torch.no_grad(), torch.cuda.amp.autocast():\n",
    "            image_features = ci.clip_model.encode_image(images)\n",
    "            image_features /= image_features.norm(dim=-1, keepdim=True)\n",
    "        return image_features\n",
    "    \n"
   ]
  },
  {
   "cell_type": "code",
   "execution_count": 19,
   "id": "eee1d7a8",
   "metadata": {
    "execution": {
     "iopub.execute_input": "2023-04-14T08:39:26.506871Z",
     "iopub.status.busy": "2023-04-14T08:39:26.506607Z",
     "iopub.status.idle": "2023-04-14T08:39:26.513210Z",
     "shell.execute_reply": "2023-04-14T08:39:26.512042Z"
    },
    "papermill": {
     "duration": 0.017604,
     "end_time": "2023-04-14T08:39:26.515929",
     "exception": false,
     "start_time": "2023-04-14T08:39:26.498325",
     "status": "completed"
    },
    "tags": []
   },
   "outputs": [],
   "source": [
    "def interrogate_classic(image: Image,max_flavors: int=3) -> str:\n",
    "        \"\"\"Classic mode creates a prompt in a standard format first describing the image, \n",
    "        then listing the artist, trending, movement, and flavor text modifiers.\"\"\"\n",
    "        caption = ci.generate_caption(image)\n",
    "        image_features = ci.image_to_features(image)\n",
    "\n",
    "        medium = ci.mediums.rank(image_features, 1)[0]\n",
    "        movement = ci.movements.rank(image_features, 1)[0]\n",
    "        flaves = \", \".join(ci.flavors.rank(image_features, max_flavors))\n",
    "\n",
    "        if caption.startswith(medium):\n",
    "            prompt = f\"{caption} , {movement}, {flaves}\"\n",
    "        else:\n",
    "            prompt = f\"{caption}, {medium} , {movement}, {flaves}\"\n",
    "\n",
    "        return clip_interrogator._truncate_to_fit(prompt, ci.tokenize)\n",
    "\n",
    "\n"
   ]
  },
  {
   "cell_type": "code",
   "execution_count": 20,
   "id": "d0e03793",
   "metadata": {
    "execution": {
     "iopub.execute_input": "2023-04-14T08:39:26.532178Z",
     "iopub.status.busy": "2023-04-14T08:39:26.531866Z",
     "iopub.status.idle": "2023-04-14T08:39:44.566807Z",
     "shell.execute_reply": "2023-04-14T08:39:44.565564Z"
    },
    "papermill": {
     "duration": 18.046471,
     "end_time": "2023-04-14T08:39:44.569644",
     "exception": false,
     "start_time": "2023-04-14T08:39:26.523173",
     "status": "completed"
    },
    "tags": []
   },
   "outputs": [
    {
     "name": "stderr",
     "output_type": "stream",
     "text": [
      "100%|██████████| 50/50 [00:00<00:00, 141.50it/s]\n",
      "100%|██████████| 50/50 [00:00<00:00, 185.08it/s]\n",
      "100%|██████████| 50/50 [00:00<00:00, 192.79it/s]\n",
      "100%|██████████| 50/50 [00:00<00:00, 200.34it/s]\n",
      "100%|██████████| 50/50 [00:00<00:00, 97.19it/s]\n",
      "100%|██████████| 50/50 [00:00<00:00, 196.91it/s]\n",
      "100%|██████████| 50/50 [00:00<00:00, 198.74it/s]\n"
     ]
    }
   ],
   "source": [
    "# #이미지에 적용\n",
    "prompts = []\n",
    "\n",
    "images_path = \"../input/stable-diffusion-image-to-prompts/images/\"\n",
    "for image_name in images:\n",
    "    img = Image.open(images_path + image_name).convert(\"RGB\")\n",
    "\n",
    "    generated = interrogate_classic(img)\n",
    "    \n",
    "    prompts.append(generated)"
   ]
  },
  {
   "cell_type": "code",
   "execution_count": 21,
   "id": "111a401f",
   "metadata": {
    "execution": {
     "iopub.execute_input": "2023-04-14T08:39:44.590480Z",
     "iopub.status.busy": "2023-04-14T08:39:44.589340Z",
     "iopub.status.idle": "2023-04-14T08:39:44.594943Z",
     "shell.execute_reply": "2023-04-14T08:39:44.593901Z"
    },
    "papermill": {
     "duration": 0.018111,
     "end_time": "2023-04-14T08:39:44.597224",
     "exception": false,
     "start_time": "2023-04-14T08:39:44.579113",
     "status": "completed"
    },
    "tags": []
   },
   "outputs": [],
   "source": [
    "# #이미지에 적용\n",
    "# prompts = []\n",
    "\n",
    "# images_path = \"../input/gustavosta-stable-diffusion-prompts-sd2/eval_images/\"\n",
    "# for image_name in images:\n",
    "#     img = Image.open(image_name).convert(\"RGB\")\n",
    "\n",
    "#     generated = interrogate_classic(img)\n",
    "    \n",
    "#     prompts.append(generated)"
   ]
  },
  {
   "cell_type": "code",
   "execution_count": 22,
   "id": "b3fcea7f",
   "metadata": {
    "execution": {
     "iopub.execute_input": "2023-04-14T08:39:44.617167Z",
     "iopub.status.busy": "2023-04-14T08:39:44.616332Z",
     "iopub.status.idle": "2023-04-14T08:39:44.623329Z",
     "shell.execute_reply": "2023-04-14T08:39:44.622201Z"
    },
    "papermill": {
     "duration": 0.019002,
     "end_time": "2023-04-14T08:39:44.625466",
     "exception": false,
     "start_time": "2023-04-14T08:39:44.606464",
     "status": "completed"
    },
    "tags": []
   },
   "outputs": [
    {
     "data": {
      "text/plain": [
       "['a man that is standing in front of a counter, a digital painting , digital art, the mighty donut, digitally painted, donut',\n",
       " 'a cartoon dinosaur with a piece of cheese in its mouth, an illustration of , digital art, buttercup eating pizza, alosaurus, spinosaurus',\n",
       " 'a drawing of a robot on a piece of paper, a screenprint , art brut, ((robot)), robot cat, robot design',\n",
       " 'a circular hole in the middle of a desert, a screenshot , hurufiyya, studying a hell open rift portal, huge black round hole, a still of an ethereal',\n",
       " 'a man in an astronaut suit walking down a path, a colorized photo , digital art, american astronaut in the forest, astronaut walking, lonely astronaut',\n",
       " 'a close up of a wooden object on a table, an abstract sculpture , op art, swirling around, carved wood, wood art',\n",
       " 'a painting of a man with a lizard on his head, a surrealist painting , magic realism, magic realism painting, kent monkman, portrait of circus artist']"
      ]
     },
     "execution_count": 22,
     "metadata": {},
     "output_type": "execute_result"
    }
   ],
   "source": [
    "prompts"
   ]
  },
  {
   "cell_type": "code",
   "execution_count": 23,
   "id": "16ccfad1",
   "metadata": {
    "execution": {
     "iopub.execute_input": "2023-04-14T08:39:44.645256Z",
     "iopub.status.busy": "2023-04-14T08:39:44.644356Z",
     "iopub.status.idle": "2023-04-14T08:39:44.686695Z",
     "shell.execute_reply": "2023-04-14T08:39:44.685482Z"
    },
    "papermill": {
     "duration": 0.054424,
     "end_time": "2023-04-14T08:39:44.688942",
     "exception": false,
     "start_time": "2023-04-14T08:39:44.634518",
     "status": "completed"
    },
    "tags": []
   },
   "outputs": [
    {
     "data": {
      "text/html": [
       "<div>\n",
       "<style scoped>\n",
       "    .dataframe tbody tr th:only-of-type {\n",
       "        vertical-align: middle;\n",
       "    }\n",
       "\n",
       "    .dataframe tbody tr th {\n",
       "        vertical-align: top;\n",
       "    }\n",
       "\n",
       "    .dataframe thead th {\n",
       "        text-align: right;\n",
       "    }\n",
       "</style>\n",
       "<table border=\"1\" class=\"dataframe\">\n",
       "  <thead>\n",
       "    <tr style=\"text-align: right;\">\n",
       "      <th></th>\n",
       "      <th>val</th>\n",
       "    </tr>\n",
       "    <tr>\n",
       "      <th>imgId_eId</th>\n",
       "      <th></th>\n",
       "    </tr>\n",
       "  </thead>\n",
       "  <tbody>\n",
       "    <tr>\n",
       "      <th>20057f34d_0</th>\n",
       "      <td>0.018848</td>\n",
       "    </tr>\n",
       "    <tr>\n",
       "      <th>20057f34d_1</th>\n",
       "      <td>0.030190</td>\n",
       "    </tr>\n",
       "    <tr>\n",
       "      <th>20057f34d_2</th>\n",
       "      <td>0.072792</td>\n",
       "    </tr>\n",
       "    <tr>\n",
       "      <th>20057f34d_3</th>\n",
       "      <td>-0.000673</td>\n",
       "    </tr>\n",
       "    <tr>\n",
       "      <th>20057f34d_4</th>\n",
       "      <td>0.016774</td>\n",
       "    </tr>\n",
       "  </tbody>\n",
       "</table>\n",
       "</div>"
      ],
      "text/plain": [
       "                  val\n",
       "imgId_eId            \n",
       "20057f34d_0  0.018848\n",
       "20057f34d_1  0.030190\n",
       "20057f34d_2  0.072792\n",
       "20057f34d_3 -0.000673\n",
       "20057f34d_4  0.016774"
      ]
     },
     "execution_count": 23,
     "metadata": {},
     "output_type": "execute_result"
    }
   ],
   "source": [
    "df_submission = pd.read_csv(path / 'sample_submission.csv', index_col='imgId_eId')\n",
    "df_submission.head()"
   ]
  },
  {
   "cell_type": "code",
   "execution_count": 24,
   "id": "1effc923",
   "metadata": {
    "execution": {
     "iopub.execute_input": "2023-04-14T08:39:44.709518Z",
     "iopub.status.busy": "2023-04-14T08:39:44.708707Z",
     "iopub.status.idle": "2023-04-14T08:39:44.719157Z",
     "shell.execute_reply": "2023-04-14T08:39:44.718255Z"
    },
    "papermill": {
     "duration": 0.022703,
     "end_time": "2023-04-14T08:39:44.721201",
     "exception": false,
     "start_time": "2023-04-14T08:39:44.698498",
     "status": "completed"
    },
    "tags": []
   },
   "outputs": [],
   "source": [
    "imgIds = [i.split('.')[0] for i in images]\n",
    "\n",
    "eIds = list(range(CFG.embedding_length))\n",
    "\n",
    "imgId_eId = [\n",
    "    '_'.join(map(str, i)) for i in zip(\n",
    "        np.repeat(imgIds, CFG.embedding_length),\n",
    "        np.tile(range(CFG.embedding_length), len(imgIds))\n",
    "    )\n",
    "]\n",
    "\n",
    "assert sorted(imgId_eId) == sorted(df_submission.index)"
   ]
  },
  {
   "cell_type": "code",
   "execution_count": 25,
   "id": "7a62ae56",
   "metadata": {
    "execution": {
     "iopub.execute_input": "2023-04-14T08:39:44.741414Z",
     "iopub.status.busy": "2023-04-14T08:39:44.740617Z",
     "iopub.status.idle": "2023-04-14T08:39:44.820715Z",
     "shell.execute_reply": "2023-04-14T08:39:44.819499Z"
    },
    "papermill": {
     "duration": 0.093787,
     "end_time": "2023-04-14T08:39:44.824384",
     "exception": false,
     "start_time": "2023-04-14T08:39:44.730597",
     "status": "completed"
    },
    "tags": []
   },
   "outputs": [
    {
     "data": {
      "application/vnd.jupyter.widget-view+json": {
       "model_id": "d34323f4bf164693a93be2fd40fd33a6",
       "version_major": 2,
       "version_minor": 0
      },
      "text/plain": [
       "Batches:   0%|          | 0/1 [00:00<?, ?it/s]"
      ]
     },
     "metadata": {},
     "output_type": "display_data"
    }
   ],
   "source": [
    "#임베딩\n",
    "embeddings = st_model.encode(prompts).flatten()"
   ]
  },
  {
   "cell_type": "code",
   "execution_count": 26,
   "id": "5d1c56e9",
   "metadata": {
    "execution": {
     "iopub.execute_input": "2023-04-14T08:39:44.845257Z",
     "iopub.status.busy": "2023-04-14T08:39:44.844454Z",
     "iopub.status.idle": "2023-04-14T08:39:44.851871Z",
     "shell.execute_reply": "2023-04-14T08:39:44.850814Z"
    },
    "papermill": {
     "duration": 0.020002,
     "end_time": "2023-04-14T08:39:44.853897",
     "exception": false,
     "start_time": "2023-04-14T08:39:44.833895",
     "status": "completed"
    },
    "tags": []
   },
   "outputs": [
    {
     "data": {
      "text/plain": [
       "array([-0.00050107,  0.06069836, -0.06835597, ...,  0.06744548,\n",
       "       -0.0664781 ,  0.04254934], dtype=float32)"
      ]
     },
     "execution_count": 26,
     "metadata": {},
     "output_type": "execute_result"
    }
   ],
   "source": [
    "embeddings"
   ]
  },
  {
   "cell_type": "code",
   "execution_count": 27,
   "id": "8f5131bc",
   "metadata": {
    "execution": {
     "iopub.execute_input": "2023-04-14T08:39:44.874496Z",
     "iopub.status.busy": "2023-04-14T08:39:44.873694Z",
     "iopub.status.idle": "2023-04-14T08:39:44.879312Z",
     "shell.execute_reply": "2023-04-14T08:39:44.878422Z"
    },
    "papermill": {
     "duration": 0.017892,
     "end_time": "2023-04-14T08:39:44.881398",
     "exception": false,
     "start_time": "2023-04-14T08:39:44.863506",
     "status": "completed"
    },
    "tags": []
   },
   "outputs": [],
   "source": [
    "submission = pd.DataFrame(\n",
    "    index=imgId_eId,\n",
    "    data=embeddings,\n",
    "    columns=['val']\n",
    ").rename_axis('imgId_eId')"
   ]
  },
  {
   "cell_type": "code",
   "execution_count": 28,
   "id": "93337497",
   "metadata": {
    "execution": {
     "iopub.execute_input": "2023-04-14T08:39:44.901897Z",
     "iopub.status.busy": "2023-04-14T08:39:44.901081Z",
     "iopub.status.idle": "2023-04-14T08:39:44.910488Z",
     "shell.execute_reply": "2023-04-14T08:39:44.909392Z"
    },
    "papermill": {
     "duration": 0.021685,
     "end_time": "2023-04-14T08:39:44.912547",
     "exception": false,
     "start_time": "2023-04-14T08:39:44.890862",
     "status": "completed"
    },
    "tags": []
   },
   "outputs": [
    {
     "data": {
      "text/html": [
       "<div>\n",
       "<style scoped>\n",
       "    .dataframe tbody tr th:only-of-type {\n",
       "        vertical-align: middle;\n",
       "    }\n",
       "\n",
       "    .dataframe tbody tr th {\n",
       "        vertical-align: top;\n",
       "    }\n",
       "\n",
       "    .dataframe thead th {\n",
       "        text-align: right;\n",
       "    }\n",
       "</style>\n",
       "<table border=\"1\" class=\"dataframe\">\n",
       "  <thead>\n",
       "    <tr style=\"text-align: right;\">\n",
       "      <th></th>\n",
       "      <th>val</th>\n",
       "    </tr>\n",
       "    <tr>\n",
       "      <th>imgId_eId</th>\n",
       "      <th></th>\n",
       "    </tr>\n",
       "  </thead>\n",
       "  <tbody>\n",
       "    <tr>\n",
       "      <th>f27825b2c_0</th>\n",
       "      <td>-0.000501</td>\n",
       "    </tr>\n",
       "    <tr>\n",
       "      <th>f27825b2c_1</th>\n",
       "      <td>0.060698</td>\n",
       "    </tr>\n",
       "    <tr>\n",
       "      <th>f27825b2c_2</th>\n",
       "      <td>-0.068356</td>\n",
       "    </tr>\n",
       "    <tr>\n",
       "      <th>f27825b2c_3</th>\n",
       "      <td>-0.086379</td>\n",
       "    </tr>\n",
       "    <tr>\n",
       "      <th>f27825b2c_4</th>\n",
       "      <td>-0.080334</td>\n",
       "    </tr>\n",
       "  </tbody>\n",
       "</table>\n",
       "</div>"
      ],
      "text/plain": [
       "                  val\n",
       "imgId_eId            \n",
       "f27825b2c_0 -0.000501\n",
       "f27825b2c_1  0.060698\n",
       "f27825b2c_2 -0.068356\n",
       "f27825b2c_3 -0.086379\n",
       "f27825b2c_4 -0.080334"
      ]
     },
     "execution_count": 28,
     "metadata": {},
     "output_type": "execute_result"
    }
   ],
   "source": [
    "submission.head()"
   ]
  },
  {
   "cell_type": "code",
   "execution_count": 29,
   "id": "bbbe131a",
   "metadata": {
    "execution": {
     "iopub.execute_input": "2023-04-14T08:39:44.933862Z",
     "iopub.status.busy": "2023-04-14T08:39:44.932912Z",
     "iopub.status.idle": "2023-04-14T08:39:44.944670Z",
     "shell.execute_reply": "2023-04-14T08:39:44.943782Z"
    },
    "papermill": {
     "duration": 0.024453,
     "end_time": "2023-04-14T08:39:44.946775",
     "exception": false,
     "start_time": "2023-04-14T08:39:44.922322",
     "status": "completed"
    },
    "tags": []
   },
   "outputs": [],
   "source": [
    "submission.to_csv('submission.csv')"
   ]
  },
  {
   "cell_type": "markdown",
   "id": "3860b7d7",
   "metadata": {
    "papermill": {
     "duration": 0.009673,
     "end_time": "2023-04-14T08:39:44.966340",
     "exception": false,
     "start_time": "2023-04-14T08:39:44.956667",
     "status": "completed"
    },
    "tags": []
   },
   "source": [
    "# VIT"
   ]
  },
  {
   "cell_type": "code",
   "execution_count": null,
   "id": "80dbb30c",
   "metadata": {
    "papermill": {
     "duration": 0.009284,
     "end_time": "2023-04-14T08:39:44.985333",
     "exception": false,
     "start_time": "2023-04-14T08:39:44.976049",
     "status": "completed"
    },
    "tags": []
   },
   "outputs": [],
   "source": []
  }
 ],
 "metadata": {
  "kernelspec": {
   "display_name": "Python 3",
   "language": "python",
   "name": "python3"
  },
  "language_info": {
   "codemirror_mode": {
    "name": "ipython",
    "version": 3
   },
   "file_extension": ".py",
   "mimetype": "text/x-python",
   "name": "python",
   "nbconvert_exporter": "python",
   "pygments_lexer": "ipython3",
   "version": "3.7.12"
  },
  "papermill": {
   "default_parameters": {},
   "duration": 316.843192,
   "end_time": "2023-04-14T08:39:47.967972",
   "environment_variables": {},
   "exception": null,
   "input_path": "__notebook__.ipynb",
   "output_path": "__notebook__.ipynb",
   "parameters": {},
   "start_time": "2023-04-14T08:34:31.124780",
   "version": "2.4.0"
  },
  "widgets": {
   "application/vnd.jupyter.widget-state+json": {
    "state": {
     "1d233b29b8ed4219a9b36a9d07ad2b76": {
      "model_module": "@jupyter-widgets/base",
      "model_module_version": "1.2.0",
      "model_name": "LayoutModel",
      "state": {
       "_model_module": "@jupyter-widgets/base",
       "_model_module_version": "1.2.0",
       "_model_name": "LayoutModel",
       "_view_count": null,
       "_view_module": "@jupyter-widgets/base",
       "_view_module_version": "1.2.0",
       "_view_name": "LayoutView",
       "align_content": null,
       "align_items": null,
       "align_self": null,
       "border": null,
       "bottom": null,
       "display": null,
       "flex": null,
       "flex_flow": null,
       "grid_area": null,
       "grid_auto_columns": null,
       "grid_auto_flow": null,
       "grid_auto_rows": null,
       "grid_column": null,
       "grid_gap": null,
       "grid_row": null,
       "grid_template_areas": null,
       "grid_template_columns": null,
       "grid_template_rows": null,
       "height": null,
       "justify_content": null,
       "justify_items": null,
       "left": null,
       "margin": null,
       "max_height": null,
       "max_width": null,
       "min_height": null,
       "min_width": null,
       "object_fit": null,
       "object_position": null,
       "order": null,
       "overflow": null,
       "overflow_x": null,
       "overflow_y": null,
       "padding": null,
       "right": null,
       "top": null,
       "visibility": null,
       "width": null
      }
     },
     "2fc89d5c12744f0983ce3e91786592fa": {
      "model_module": "@jupyter-widgets/controls",
      "model_module_version": "1.5.0",
      "model_name": "DescriptionStyleModel",
      "state": {
       "_model_module": "@jupyter-widgets/controls",
       "_model_module_version": "1.5.0",
       "_model_name": "DescriptionStyleModel",
       "_view_count": null,
       "_view_module": "@jupyter-widgets/base",
       "_view_module_version": "1.2.0",
       "_view_name": "StyleView",
       "description_width": ""
      }
     },
     "6a3492a5100a469b9e50b466e3d88dbf": {
      "model_module": "@jupyter-widgets/base",
      "model_module_version": "1.2.0",
      "model_name": "LayoutModel",
      "state": {
       "_model_module": "@jupyter-widgets/base",
       "_model_module_version": "1.2.0",
       "_model_name": "LayoutModel",
       "_view_count": null,
       "_view_module": "@jupyter-widgets/base",
       "_view_module_version": "1.2.0",
       "_view_name": "LayoutView",
       "align_content": null,
       "align_items": null,
       "align_self": null,
       "border": null,
       "bottom": null,
       "display": null,
       "flex": null,
       "flex_flow": null,
       "grid_area": null,
       "grid_auto_columns": null,
       "grid_auto_flow": null,
       "grid_auto_rows": null,
       "grid_column": null,
       "grid_gap": null,
       "grid_row": null,
       "grid_template_areas": null,
       "grid_template_columns": null,
       "grid_template_rows": null,
       "height": null,
       "justify_content": null,
       "justify_items": null,
       "left": null,
       "margin": null,
       "max_height": null,
       "max_width": null,
       "min_height": null,
       "min_width": null,
       "object_fit": null,
       "object_position": null,
       "order": null,
       "overflow": null,
       "overflow_x": null,
       "overflow_y": null,
       "padding": null,
       "right": null,
       "top": null,
       "visibility": null,
       "width": null
      }
     },
     "a1ffcb8e84a94c5eb62626ecb0b508e4": {
      "model_module": "@jupyter-widgets/controls",
      "model_module_version": "1.5.0",
      "model_name": "HTMLModel",
      "state": {
       "_dom_classes": [],
       "_model_module": "@jupyter-widgets/controls",
       "_model_module_version": "1.5.0",
       "_model_name": "HTMLModel",
       "_view_count": null,
       "_view_module": "@jupyter-widgets/controls",
       "_view_module_version": "1.5.0",
       "_view_name": "HTMLView",
       "description": "",
       "description_tooltip": null,
       "layout": "IPY_MODEL_6a3492a5100a469b9e50b466e3d88dbf",
       "placeholder": "​",
       "style": "IPY_MODEL_2fc89d5c12744f0983ce3e91786592fa",
       "value": "Batches: 100%"
      }
     },
     "b04dcf413a674b709af983a5ba0f175d": {
      "model_module": "@jupyter-widgets/controls",
      "model_module_version": "1.5.0",
      "model_name": "ProgressStyleModel",
      "state": {
       "_model_module": "@jupyter-widgets/controls",
       "_model_module_version": "1.5.0",
       "_model_name": "ProgressStyleModel",
       "_view_count": null,
       "_view_module": "@jupyter-widgets/base",
       "_view_module_version": "1.2.0",
       "_view_name": "StyleView",
       "bar_color": null,
       "description_width": ""
      }
     },
     "d34323f4bf164693a93be2fd40fd33a6": {
      "model_module": "@jupyter-widgets/controls",
      "model_module_version": "1.5.0",
      "model_name": "HBoxModel",
      "state": {
       "_dom_classes": [],
       "_model_module": "@jupyter-widgets/controls",
       "_model_module_version": "1.5.0",
       "_model_name": "HBoxModel",
       "_view_count": null,
       "_view_module": "@jupyter-widgets/controls",
       "_view_module_version": "1.5.0",
       "_view_name": "HBoxView",
       "box_style": "",
       "children": [
        "IPY_MODEL_a1ffcb8e84a94c5eb62626ecb0b508e4",
        "IPY_MODEL_f4e50cb0a1a84d41a385cc35b87a86ce",
        "IPY_MODEL_ead5aa0f0c324a7b849a49361b5373a0"
       ],
       "layout": "IPY_MODEL_fb46207b3d2048b9af8afb4dca11b3c8"
      }
     },
     "df524563753d4a128dac80e62dfce9e1": {
      "model_module": "@jupyter-widgets/controls",
      "model_module_version": "1.5.0",
      "model_name": "DescriptionStyleModel",
      "state": {
       "_model_module": "@jupyter-widgets/controls",
       "_model_module_version": "1.5.0",
       "_model_name": "DescriptionStyleModel",
       "_view_count": null,
       "_view_module": "@jupyter-widgets/base",
       "_view_module_version": "1.2.0",
       "_view_name": "StyleView",
       "description_width": ""
      }
     },
     "ead5aa0f0c324a7b849a49361b5373a0": {
      "model_module": "@jupyter-widgets/controls",
      "model_module_version": "1.5.0",
      "model_name": "HTMLModel",
      "state": {
       "_dom_classes": [],
       "_model_module": "@jupyter-widgets/controls",
       "_model_module_version": "1.5.0",
       "_model_name": "HTMLModel",
       "_view_count": null,
       "_view_module": "@jupyter-widgets/controls",
       "_view_module_version": "1.5.0",
       "_view_name": "HTMLView",
       "description": "",
       "description_tooltip": null,
       "layout": "IPY_MODEL_1d233b29b8ed4219a9b36a9d07ad2b76",
       "placeholder": "​",
       "style": "IPY_MODEL_df524563753d4a128dac80e62dfce9e1",
       "value": " 1/1 [00:00&lt;00:00, 23.65it/s]"
      }
     },
     "f4e50cb0a1a84d41a385cc35b87a86ce": {
      "model_module": "@jupyter-widgets/controls",
      "model_module_version": "1.5.0",
      "model_name": "FloatProgressModel",
      "state": {
       "_dom_classes": [],
       "_model_module": "@jupyter-widgets/controls",
       "_model_module_version": "1.5.0",
       "_model_name": "FloatProgressModel",
       "_view_count": null,
       "_view_module": "@jupyter-widgets/controls",
       "_view_module_version": "1.5.0",
       "_view_name": "ProgressView",
       "bar_style": "success",
       "description": "",
       "description_tooltip": null,
       "layout": "IPY_MODEL_f66ff4303d784a2e8253f8c62fc8b03d",
       "max": 1.0,
       "min": 0.0,
       "orientation": "horizontal",
       "style": "IPY_MODEL_b04dcf413a674b709af983a5ba0f175d",
       "value": 1.0
      }
     },
     "f66ff4303d784a2e8253f8c62fc8b03d": {
      "model_module": "@jupyter-widgets/base",
      "model_module_version": "1.2.0",
      "model_name": "LayoutModel",
      "state": {
       "_model_module": "@jupyter-widgets/base",
       "_model_module_version": "1.2.0",
       "_model_name": "LayoutModel",
       "_view_count": null,
       "_view_module": "@jupyter-widgets/base",
       "_view_module_version": "1.2.0",
       "_view_name": "LayoutView",
       "align_content": null,
       "align_items": null,
       "align_self": null,
       "border": null,
       "bottom": null,
       "display": null,
       "flex": null,
       "flex_flow": null,
       "grid_area": null,
       "grid_auto_columns": null,
       "grid_auto_flow": null,
       "grid_auto_rows": null,
       "grid_column": null,
       "grid_gap": null,
       "grid_row": null,
       "grid_template_areas": null,
       "grid_template_columns": null,
       "grid_template_rows": null,
       "height": null,
       "justify_content": null,
       "justify_items": null,
       "left": null,
       "margin": null,
       "max_height": null,
       "max_width": null,
       "min_height": null,
       "min_width": null,
       "object_fit": null,
       "object_position": null,
       "order": null,
       "overflow": null,
       "overflow_x": null,
       "overflow_y": null,
       "padding": null,
       "right": null,
       "top": null,
       "visibility": null,
       "width": null
      }
     },
     "fb46207b3d2048b9af8afb4dca11b3c8": {
      "model_module": "@jupyter-widgets/base",
      "model_module_version": "1.2.0",
      "model_name": "LayoutModel",
      "state": {
       "_model_module": "@jupyter-widgets/base",
       "_model_module_version": "1.2.0",
       "_model_name": "LayoutModel",
       "_view_count": null,
       "_view_module": "@jupyter-widgets/base",
       "_view_module_version": "1.2.0",
       "_view_name": "LayoutView",
       "align_content": null,
       "align_items": null,
       "align_self": null,
       "border": null,
       "bottom": null,
       "display": null,
       "flex": null,
       "flex_flow": null,
       "grid_area": null,
       "grid_auto_columns": null,
       "grid_auto_flow": null,
       "grid_auto_rows": null,
       "grid_column": null,
       "grid_gap": null,
       "grid_row": null,
       "grid_template_areas": null,
       "grid_template_columns": null,
       "grid_template_rows": null,
       "height": null,
       "justify_content": null,
       "justify_items": null,
       "left": null,
       "margin": null,
       "max_height": null,
       "max_width": null,
       "min_height": null,
       "min_width": null,
       "object_fit": null,
       "object_position": null,
       "order": null,
       "overflow": null,
       "overflow_x": null,
       "overflow_y": null,
       "padding": null,
       "right": null,
       "top": null,
       "visibility": null,
       "width": null
      }
     }
    },
    "version_major": 2,
    "version_minor": 0
   }
  }
 },
 "nbformat": 4,
 "nbformat_minor": 5
}
