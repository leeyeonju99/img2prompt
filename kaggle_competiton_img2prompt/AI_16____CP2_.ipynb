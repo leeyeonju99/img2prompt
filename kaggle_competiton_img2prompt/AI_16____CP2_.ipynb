{
 "cells": [
  {
   "cell_type": "code",
   "execution_count": 1,
   "id": "31208295",
   "metadata": {
    "execution": {
     "iopub.execute_input": "2023-04-19T00:47:56.840992Z",
     "iopub.status.busy": "2023-04-19T00:47:56.840242Z",
     "iopub.status.idle": "2023-04-19T00:47:56.853349Z",
     "shell.execute_reply": "2023-04-19T00:47:56.852264Z"
    },
    "papermill": {
     "duration": 0.027763,
     "end_time": "2023-04-19T00:47:56.856389",
     "exception": false,
     "start_time": "2023-04-19T00:47:56.828626",
     "status": "completed"
    },
    "tags": []
   },
   "outputs": [],
   "source": [
    "ratio_ViT_B_16          = 0.55\n",
    "ratio_CLIP_Interrogator = 0.45"
   ]
  },
  {
   "cell_type": "markdown",
   "id": "e4bc2e89",
   "metadata": {
    "papermill": {
     "duration": 0.008917,
     "end_time": "2023-04-19T00:47:56.874274",
     "exception": false,
     "start_time": "2023-04-19T00:47:56.865357",
     "status": "completed"
    },
    "tags": []
   },
   "source": [
    "# CLIP Interrrogator"
   ]
  },
  {
   "cell_type": "code",
   "execution_count": 2,
   "id": "2c78bf93",
   "metadata": {
    "execution": {
     "iopub.execute_input": "2023-04-19T00:47:56.894622Z",
     "iopub.status.busy": "2023-04-19T00:47:56.894203Z",
     "iopub.status.idle": "2023-04-19T00:50:27.137600Z",
     "shell.execute_reply": "2023-04-19T00:50:27.136437Z"
    },
    "papermill": {
     "duration": 150.256299,
     "end_time": "2023-04-19T00:50:27.140220",
     "exception": false,
     "start_time": "2023-04-19T00:47:56.883921",
     "status": "completed"
    },
    "tags": []
   },
   "outputs": [
    {
     "name": "stdout",
     "output_type": "stream",
     "text": [
      "Requirement already satisfied: torch in /opt/conda/lib/python3.7/site-packages (1.11.0)\r\n",
      "\u001b[33mWARNING: Retrying (Retry(total=4, connect=None, read=None, redirect=None, status=None)) after connection broken by 'NewConnectionError('<pip._vendor.urllib3.connection.HTTPSConnection object at 0x74c51ce62410>: Failed to establish a new connection: [Errno -3] Temporary failure in name resolution')': /simple/clip/\u001b[0m\u001b[33m\r\n",
      "\u001b[0m\u001b[33mWARNING: Retrying (Retry(total=3, connect=None, read=None, redirect=None, status=None)) after connection broken by 'NewConnectionError('<pip._vendor.urllib3.connection.HTTPSConnection object at 0x74c51cb8d090>: Failed to establish a new connection: [Errno -3] Temporary failure in name resolution')': /simple/clip/\u001b[0m\u001b[33m\r\n",
      "\u001b[0m\u001b[33mWARNING: Retrying (Retry(total=2, connect=None, read=None, redirect=None, status=None)) after connection broken by 'NewConnectionError('<pip._vendor.urllib3.connection.HTTPSConnection object at 0x74c51cb8d510>: Failed to establish a new connection: [Errno -3] Temporary failure in name resolution')': /simple/clip/\u001b[0m\u001b[33m\r\n",
      "\u001b[0m\u001b[33mWARNING: Retrying (Retry(total=1, connect=None, read=None, redirect=None, status=None)) after connection broken by 'NewConnectionError('<pip._vendor.urllib3.connection.HTTPSConnection object at 0x74c51cb8d8d0>: Failed to establish a new connection: [Errno -3] Temporary failure in name resolution')': /simple/clip/\u001b[0m\u001b[33m\r\n",
      "\u001b[0m\u001b[33mWARNING: Retrying (Retry(total=0, connect=None, read=None, redirect=None, status=None)) after connection broken by 'NewConnectionError('<pip._vendor.urllib3.connection.HTTPSConnection object at 0x74c51cb8dc90>: Failed to establish a new connection: [Errno -3] Temporary failure in name resolution')': /simple/clip/\u001b[0m\u001b[33m\r\n",
      "\u001b[0m\u001b[31mERROR: Could not find a version that satisfies the requirement clip (from versions: none)\u001b[0m\u001b[31m\r\n",
      "\u001b[0m\u001b[31mERROR: No matching distribution found for clip\u001b[0m\u001b[31m\r\n",
      "\u001b[0m\u001b[33mWARNING: There was an error checking the latest version of pip.\u001b[0m\u001b[33m\r\n",
      "\u001b[0m"
     ]
    }
   ],
   "source": [
    "!pip install torch clip"
   ]
  },
  {
   "cell_type": "code",
   "execution_count": 3,
   "id": "3ffc0777",
   "metadata": {
    "execution": {
     "iopub.execute_input": "2023-04-19T00:50:27.157480Z",
     "iopub.status.busy": "2023-04-19T00:50:27.157151Z",
     "iopub.status.idle": "2023-04-19T00:51:02.217198Z",
     "shell.execute_reply": "2023-04-19T00:51:02.215851Z"
    },
    "papermill": {
     "duration": 35.071873,
     "end_time": "2023-04-19T00:51:02.220169",
     "exception": false,
     "start_time": "2023-04-19T00:50:27.148296",
     "status": "completed"
    },
    "tags": []
   },
   "outputs": [
    {
     "name": "stdout",
     "output_type": "stream",
     "text": [
      "\u001b[31mERROR: pip's dependency resolver does not currently take into account all the packages that are installed. This behaviour is the source of the following dependency conflicts.\r\n",
      "tensorflow-io 0.21.0 requires tensorflow-io-gcs-filesystem==0.21.0, which is not installed.\r\n",
      "beatrix-jupyterlab 3.1.7 requires google-cloud-bigquery-storage, which is not installed.\r\n",
      "tfx-bsl 1.9.0 requires google-api-python-client<2,>=1.7.11, but you have google-api-python-client 2.52.0 which is incompatible.\r\n",
      "tfx-bsl 1.9.0 requires tensorflow!=2.0.*,!=2.1.*,!=2.2.*,!=2.3.*,!=2.4.*,!=2.5.*,!=2.6.*,!=2.7.*,!=2.8.*,<3,>=1.15.5, but you have tensorflow 2.6.4 which is incompatible.\r\n",
      "tensorflow 2.6.4 requires h5py~=3.1.0, but you have h5py 3.8.0 which is incompatible.\r\n",
      "tensorflow 2.6.4 requires numpy~=1.19.2, but you have numpy 1.21.6 which is incompatible.\r\n",
      "tensorflow 2.6.4 requires typing-extensions<3.11,>=3.7, but you have typing-extensions 4.1.1 which is incompatible.\r\n",
      "tensorflow-transform 1.9.0 requires tensorflow!=2.0.*,!=2.1.*,!=2.2.*,!=2.3.*,!=2.4.*,!=2.5.*,!=2.6.*,!=2.7.*,!=2.8.*,<2.10,>=1.15.5, but you have tensorflow 2.6.4 which is incompatible.\r\n",
      "tensorflow-serving-api 2.9.0 requires tensorflow<3,>=2.9.0, but you have tensorflow 2.6.4 which is incompatible.\r\n",
      "tensorboardx 2.5.1 requires protobuf<=3.20.1,>=3.8.0, but you have protobuf 3.20.3 which is incompatible.\r\n",
      "ortools 9.5.2237 requires protobuf>=4.21.5, but you have protobuf 3.20.3 which is incompatible.\r\n",
      "onnx 1.12.0 requires protobuf<=3.20.1,>=3.12.2, but you have protobuf 3.20.3 which is incompatible.\r\n",
      "nnabla 1.33.0 requires protobuf<=3.19.4; platform_system != \"Windows\", but you have protobuf 3.20.3 which is incompatible.\r\n",
      "gcsfs 2022.5.0 requires fsspec==2022.5.0, but you have fsspec 2023.1.0 which is incompatible.\r\n",
      "apache-beam 2.40.0 requires dill<0.3.2,>=0.3.1.1, but you have dill 0.3.6 which is incompatible.\r\n",
      "allennlp 2.10.1 requires fairscale==0.4.6, but you have fairscale 0.4.4 which is incompatible.\u001b[0m\u001b[31m\r\n",
      "\u001b[0m\u001b[33mWARNING: Running pip as the 'root' user can result in broken permissions and conflicting behaviour with the system package manager. It is recommended to use a virtual environment instead: https://pip.pypa.io/warnings/venv\u001b[0m\u001b[33m\r\n",
      "\u001b[0m"
     ]
    }
   ],
   "source": [
    "import torch\n",
    "import sys\n",
    "from pathlib import Path\n",
    "import pandas as pd\n",
    "import os\n",
    "import numpy as np\n",
    "from PIL import Image\n",
    "\n",
    "wheels_path = \"/kaggle/input/clip-interrogator-wheels-x\"\n",
    "clip_interrogator_whl_path = f\"{wheels_path}/clip_interrogator-0.4.3-py3-none-any.whl\"\n",
    "!pip install --no-index --find-links $wheels_path $clip_interrogator_whl_path -q"
   ]
  },
  {
   "cell_type": "code",
   "execution_count": 4,
   "id": "8f193ada",
   "metadata": {
    "execution": {
     "iopub.execute_input": "2023-04-19T00:51:02.238978Z",
     "iopub.status.busy": "2023-04-19T00:51:02.238173Z",
     "iopub.status.idle": "2023-04-19T00:51:12.342194Z",
     "shell.execute_reply": "2023-04-19T00:51:12.340803Z"
    },
    "papermill": {
     "duration": 10.116856,
     "end_time": "2023-04-19T00:51:12.345115",
     "exception": false,
     "start_time": "2023-04-19T00:51:02.228259",
     "status": "completed"
    },
    "tags": []
   },
   "outputs": [
    {
     "name": "stdout",
     "output_type": "stream",
     "text": [
      "\u001b[33mWARNING: Running pip as the 'root' user can result in broken permissions and conflicting behaviour with the system package manager. It is recommended to use a virtual environment instead: https://pip.pypa.io/warnings/venv\u001b[0m\u001b[33m\r\n",
      "\u001b[0m"
     ]
    }
   ],
   "source": [
    "!pip install --no-index --find-links $wheels_path $clip_interrogator_whl_path -q"
   ]
  },
  {
   "cell_type": "code",
   "execution_count": 5,
   "id": "08729e24",
   "metadata": {
    "execution": {
     "iopub.execute_input": "2023-04-19T00:51:12.365313Z",
     "iopub.status.busy": "2023-04-19T00:51:12.364121Z",
     "iopub.status.idle": "2023-04-19T00:53:42.057358Z",
     "shell.execute_reply": "2023-04-19T00:53:42.056122Z"
    },
    "papermill": {
     "duration": 149.706369,
     "end_time": "2023-04-19T00:53:42.060024",
     "exception": false,
     "start_time": "2023-04-19T00:51:12.353655",
     "status": "completed"
    },
    "tags": []
   },
   "outputs": [
    {
     "name": "stdout",
     "output_type": "stream",
     "text": [
      "Requirement already satisfied: torch in /opt/conda/lib/python3.7/site-packages (1.11.0)\r\n",
      "\u001b[33mWARNING: Retrying (Retry(total=4, connect=None, read=None, redirect=None, status=None)) after connection broken by 'NewConnectionError('<pip._vendor.urllib3.connection.HTTPSConnection object at 0x711a5e299790>: Failed to establish a new connection: [Errno -3] Temporary failure in name resolution')': /simple/clip/\u001b[0m\u001b[33m\r\n",
      "\u001b[0m\u001b[33mWARNING: Retrying (Retry(total=3, connect=None, read=None, redirect=None, status=None)) after connection broken by 'NewConnectionError('<pip._vendor.urllib3.connection.HTTPSConnection object at 0x711a5e299b90>: Failed to establish a new connection: [Errno -3] Temporary failure in name resolution')': /simple/clip/\u001b[0m\u001b[33m\r\n",
      "\u001b[0m\u001b[33mWARNING: Retrying (Retry(total=2, connect=None, read=None, redirect=None, status=None)) after connection broken by 'NewConnectionError('<pip._vendor.urllib3.connection.HTTPSConnection object at 0x711a5e299ad0>: Failed to establish a new connection: [Errno -3] Temporary failure in name resolution')': /simple/clip/\u001b[0m\u001b[33m\r\n",
      "\u001b[0m\u001b[33mWARNING: Retrying (Retry(total=1, connect=None, read=None, redirect=None, status=None)) after connection broken by 'NewConnectionError('<pip._vendor.urllib3.connection.HTTPSConnection object at 0x711a5e264390>: Failed to establish a new connection: [Errno -3] Temporary failure in name resolution')': /simple/clip/\u001b[0m\u001b[33m\r\n",
      "\u001b[0m\u001b[33mWARNING: Retrying (Retry(total=0, connect=None, read=None, redirect=None, status=None)) after connection broken by 'NewConnectionError('<pip._vendor.urllib3.connection.HTTPSConnection object at 0x711a5e264750>: Failed to establish a new connection: [Errno -3] Temporary failure in name resolution')': /simple/clip/\u001b[0m\u001b[33m\r\n",
      "\u001b[0m\u001b[31mERROR: Could not find a version that satisfies the requirement clip (from versions: none)\u001b[0m\u001b[31m\r\n",
      "\u001b[0m\u001b[31mERROR: No matching distribution found for clip\u001b[0m\u001b[31m\r\n",
      "\u001b[0m\u001b[33mWARNING: There was an error checking the latest version of pip.\u001b[0m\u001b[33m\r\n",
      "\u001b[0m"
     ]
    }
   ],
   "source": [
    "!pip install torch clip"
   ]
  },
  {
   "cell_type": "code",
   "execution_count": 6,
   "id": "adcaba8d",
   "metadata": {
    "execution": {
     "iopub.execute_input": "2023-04-19T00:53:42.079279Z",
     "iopub.status.busy": "2023-04-19T00:53:42.078186Z",
     "iopub.status.idle": "2023-04-19T00:53:42.203652Z",
     "shell.execute_reply": "2023-04-19T00:53:42.202665Z"
    },
    "papermill": {
     "duration": 0.137507,
     "end_time": "2023-04-19T00:53:42.206023",
     "exception": false,
     "start_time": "2023-04-19T00:53:42.068516",
     "status": "completed"
    },
    "tags": []
   },
   "outputs": [],
   "source": [
    "import torch\n",
    "import sys\n",
    "from pathlib import Path\n",
    "import pandas as pd\n",
    "import os\n",
    "import numpy as np\n",
    "from PIL import Image\n",
    "def make_batches(l, batch_size=16):\n",
    "    for i in range(0, len(l), batch_size):\n",
    "        yield l[i:i + batch_size]\n",
    "\n",
    "path = Path('../input/stable-diffusion-image-to-prompts/')\n",
    "# sample_submission = pd.read_csv(path / 'sample_submission.csv', index_col='imgId_eId')\n",
    "images = os.listdir(path/\"images\")\n",
    "# image_ids = [i.split('.')[0] for i in images]\n",
    "\n",
    "device = \"cuda\" if torch.cuda.is_available() else \"cpu\""
   ]
  },
  {
   "cell_type": "code",
   "execution_count": 7,
   "id": "919685a3",
   "metadata": {
    "execution": {
     "iopub.execute_input": "2023-04-19T00:53:42.224381Z",
     "iopub.status.busy": "2023-04-19T00:53:42.223774Z",
     "iopub.status.idle": "2023-04-19T00:54:05.760851Z",
     "shell.execute_reply": "2023-04-19T00:54:05.759582Z"
    },
    "papermill": {
     "duration": 23.54875,
     "end_time": "2023-04-19T00:54:05.763381",
     "exception": false,
     "start_time": "2023-04-19T00:53:42.214631",
     "status": "completed"
    },
    "tags": []
   },
   "outputs": [
    {
     "name": "stdout",
     "output_type": "stream",
     "text": [
      "transformers                          4.15.0\r\n",
      "\u001b[33mWARNING: There was an error checking the latest version of pip.\u001b[0m\u001b[33m\r\n",
      "\u001b[0m"
     ]
    }
   ],
   "source": [
    "!pip list | grep transformers\n"
   ]
  },
  {
   "cell_type": "code",
   "execution_count": 8,
   "id": "ffbfa686",
   "metadata": {
    "execution": {
     "iopub.execute_input": "2023-04-19T00:54:05.782794Z",
     "iopub.status.busy": "2023-04-19T00:54:05.781765Z",
     "iopub.status.idle": "2023-04-19T00:54:11.050010Z",
     "shell.execute_reply": "2023-04-19T00:54:11.048781Z"
    },
    "papermill": {
     "duration": 5.280707,
     "end_time": "2023-04-19T00:54:11.052856",
     "exception": false,
     "start_time": "2023-04-19T00:54:05.772149",
     "status": "completed"
    },
    "tags": []
   },
   "outputs": [],
   "source": [
    "class CFG:\n",
    "    device = \"cuda\"\n",
    "    seed = 42\n",
    "    embedding_length = 384\n",
    "    sentence_model_path = \"/kaggle/input/sentence-transformers-222/all-MiniLM-L6-v2\"\n",
    "    blip_model_path = \"/kaggle/input/clip-interrogator-models-x/model_large_caption.pth\"\n",
    "    ci_clip_model_name = \"ViT-H-14/laion2b_s32b_b79k\"\n",
    "    clip_model_name = \"ViT-H-14\"\n",
    "    clip_model_path = \"/kaggle/input/clip-interrogator-models-x/CLIP-ViT-H-14-laion2B-s32B-b79K/open_clip_pytorch_model.bin\"\n",
    "    cache_path = \"/kaggle/input/clip-interrogator-models-x\"\n",
    "import open_clip\n",
    "import inspect\n",
    "import importlib\n",
    "\n",
    "from blip.models import blip\n",
    "from clip_interrogator import clip_interrogator\n",
    "from PIL import Image\n",
    "import torchvision.transforms as transforms\n",
    "sys.path.append('../input/sentence-transformers-222/sentence-transformers')\n",
    "from sentence_transformers import SentenceTransformer, models\n",
    "\n",
    "st_model = SentenceTransformer(CFG.sentence_model_path)"
   ]
  },
  {
   "cell_type": "code",
   "execution_count": 9,
   "id": "264eaaae",
   "metadata": {
    "execution": {
     "iopub.execute_input": "2023-04-19T00:54:11.072757Z",
     "iopub.status.busy": "2023-04-19T00:54:11.071891Z",
     "iopub.status.idle": "2023-04-19T00:54:11.086163Z",
     "shell.execute_reply": "2023-04-19T00:54:11.085114Z"
    },
    "papermill": {
     "duration": 0.027207,
     "end_time": "2023-04-19T00:54:11.088851",
     "exception": false,
     "start_time": "2023-04-19T00:54:11.061644",
     "status": "completed"
    },
    "tags": []
   },
   "outputs": [
    {
     "data": {
      "text/plain": [
       "<module 'blip.models.blip' from '/opt/conda/lib/python3.7/site-packages/blip/models/blip.py'>"
      ]
     },
     "execution_count": 9,
     "metadata": {},
     "output_type": "execute_result"
    }
   ],
   "source": [
    "# replace tokenizer path to prevent downloading\n",
    "# blip 모델 모듈 대체\n",
    "blip_path = inspect.getfile(blip)\n",
    "\n",
    "fin = open(blip_path, \"rt\")\n",
    "data = fin.read()\n",
    "data = data.replace(\n",
    "    \"BertTokenizer.from_pretrained('bert-base-uncased')\", \n",
    "    \"BertTokenizer.from_pretrained('/kaggle/input/clip-interrogator-models-x/bert-base-uncased')\"\n",
    ")\n",
    "fin.close()\n",
    "\n",
    "fin = open(blip_path, \"wt\")\n",
    "fin.write(data)\n",
    "fin.close()\n",
    "\n",
    "# reload module\n",
    "importlib.reload(blip)"
   ]
  },
  {
   "cell_type": "code",
   "execution_count": 10,
   "id": "6d3b9adf",
   "metadata": {
    "execution": {
     "iopub.execute_input": "2023-04-19T00:54:11.107879Z",
     "iopub.status.busy": "2023-04-19T00:54:11.107550Z",
     "iopub.status.idle": "2023-04-19T00:54:11.127021Z",
     "shell.execute_reply": "2023-04-19T00:54:11.126071Z"
    },
    "papermill": {
     "duration": 0.031703,
     "end_time": "2023-04-19T00:54:11.129522",
     "exception": false,
     "start_time": "2023-04-19T00:54:11.097819",
     "status": "completed"
    },
    "tags": []
   },
   "outputs": [
    {
     "data": {
      "text/plain": [
       "<module 'clip_interrogator.clip_interrogator' from '/opt/conda/lib/python3.7/site-packages/clip_interrogator/clip_interrogator.py'>"
      ]
     },
     "execution_count": 10,
     "metadata": {},
     "output_type": "execute_result"
    }
   ],
   "source": [
    "# fix clip_interrogator bug\n",
    "clip_interrogator_path = inspect.getfile(clip_interrogator.Interrogator)\n",
    "\n",
    "fin = open(clip_interrogator_path, \"rt\")\n",
    "data = fin.read()\n",
    "data = data.replace(\n",
    "    'open_clip.get_tokenizer(clip_model_name)', \n",
    "    'open_clip.get_tokenizer(config.clip_model_name.split(\"/\", 2)[0])'\n",
    ")\n",
    "fin.close()\n",
    "\n",
    "fin = open(clip_interrogator_path, \"wt\")\n",
    "fin.write(data)\n",
    "fin.close()\n",
    "\n",
    "# reload module\n",
    "importlib.reload(clip_interrogator)"
   ]
  },
  {
   "cell_type": "code",
   "execution_count": 11,
   "id": "9545c185",
   "metadata": {
    "execution": {
     "iopub.execute_input": "2023-04-19T00:54:11.147753Z",
     "iopub.status.busy": "2023-04-19T00:54:11.147438Z",
     "iopub.status.idle": "2023-04-19T00:54:11.151978Z",
     "shell.execute_reply": "2023-04-19T00:54:11.150927Z"
    },
    "papermill": {
     "duration": 0.01604,
     "end_time": "2023-04-19T00:54:11.154183",
     "exception": false,
     "start_time": "2023-04-19T00:54:11.138143",
     "status": "completed"
    },
    "tags": []
   },
   "outputs": [],
   "source": [
    "# Step 1: Config 객체 생성\n",
    "model_config = clip_interrogator.Config(clip_model_name=CFG.ci_clip_model_name)\n",
    "model_config.cache_path = CFG.cache_path"
   ]
  },
  {
   "cell_type": "code",
   "execution_count": 12,
   "id": "2122f4c9",
   "metadata": {
    "execution": {
     "iopub.execute_input": "2023-04-19T00:54:11.171628Z",
     "iopub.status.busy": "2023-04-19T00:54:11.171354Z",
     "iopub.status.idle": "2023-04-19T00:54:43.579340Z",
     "shell.execute_reply": "2023-04-19T00:54:43.578304Z"
    },
    "papermill": {
     "duration": 32.419301,
     "end_time": "2023-04-19T00:54:43.581723",
     "exception": false,
     "start_time": "2023-04-19T00:54:11.162422",
     "status": "completed"
    },
    "tags": []
   },
   "outputs": [
    {
     "name": "stdout",
     "output_type": "stream",
     "text": [
      "load checkpoint from /kaggle/input/clip-interrogator-models-x/model_large_caption.pth\n"
     ]
    }
   ],
   "source": [
    "configs_path = os.path.join(os.path.dirname(os.path.dirname(blip_path)), 'configs')\n",
    "med_config = os.path.join(configs_path, 'med_config.json')\n",
    "blip_model = blip.blip_decoder(\n",
    "    pretrained=CFG.blip_model_path,\n",
    "    image_size=model_config.blip_image_eval_size, \n",
    "    vit=model_config.blip_model_type, \n",
    "    med_config=med_config\n",
    ")\n",
    "blip_model.eval()\n",
    "blip_model = blip_model.to(model_config.device)\n",
    "model_config.blip_model = blip_model"
   ]
  },
  {
   "cell_type": "code",
   "execution_count": 13,
   "id": "eeb0aceb",
   "metadata": {
    "execution": {
     "iopub.execute_input": "2023-04-19T00:54:43.600111Z",
     "iopub.status.busy": "2023-04-19T00:54:43.599773Z",
     "iopub.status.idle": "2023-04-19T00:55:31.452185Z",
     "shell.execute_reply": "2023-04-19T00:55:31.451018Z"
    },
    "papermill": {
     "duration": 47.864764,
     "end_time": "2023-04-19T00:55:31.455124",
     "exception": false,
     "start_time": "2023-04-19T00:54:43.590360",
     "status": "completed"
    },
    "tags": []
   },
   "outputs": [],
   "source": [
    "# CLIP 모델 생성\n",
    "clip_model = open_clip.create_model(CFG.clip_model_name, precision='fp16' if model_config.device == 'cuda' else 'fp32')\n",
    "\n",
    "# #학습된 모델 불러오기\n",
    "open_clip.load_checkpoint(clip_model, CFG.clip_model_path)\n",
    "clip_model.to(model_config.device).eval()\n",
    "model_config.clip_model = clip_model"
   ]
  },
  {
   "cell_type": "code",
   "execution_count": 14,
   "id": "290f9f50",
   "metadata": {
    "execution": {
     "iopub.execute_input": "2023-04-19T00:55:31.474929Z",
     "iopub.status.busy": "2023-04-19T00:55:31.474560Z",
     "iopub.status.idle": "2023-04-19T00:55:31.480669Z",
     "shell.execute_reply": "2023-04-19T00:55:31.479578Z"
    },
    "papermill": {
     "duration": 0.018934,
     "end_time": "2023-04-19T00:55:31.483403",
     "exception": false,
     "start_time": "2023-04-19T00:55:31.464469",
     "status": "completed"
    },
    "tags": []
   },
   "outputs": [],
   "source": [
    "clip_preprocess = transforms.Compose([\n",
    "     transforms.Resize((224, 224)),\n",
    "     transforms.CenterCrop(224),\n",
    "    transforms.ToTensor(),\n",
    "    transforms.Normalize(\n",
    "         mean=[0.5, 0.5, 0.5],\n",
    "         std=[0.5, 0.5, 0.5]\n",
    "        #transforms.Normalize((0.48145466, 0.4578275, 0.40821073), (0.26862954, 0.26130258, 0.27577711))\n",
    "     )\n",
    " ])\n",
    "model_config.clip_preprocess = clip_preprocess\n",
    "# # transforms.Normalize(\n",
    "# #         mean=[0.5, 0.5, 0.5],\n",
    "# #         std=[0.229, 0.224, 0.225]"
   ]
  },
  {
   "cell_type": "code",
   "execution_count": 15,
   "id": "f5c13b7f",
   "metadata": {
    "execution": {
     "iopub.execute_input": "2023-04-19T00:55:31.501678Z",
     "iopub.status.busy": "2023-04-19T00:55:31.501395Z",
     "iopub.status.idle": "2023-04-19T00:55:33.883941Z",
     "shell.execute_reply": "2023-04-19T00:55:33.882503Z"
    },
    "papermill": {
     "duration": 2.39419,
     "end_time": "2023-04-19T00:55:33.886199",
     "exception": false,
     "start_time": "2023-04-19T00:55:31.492009",
     "status": "completed"
    },
    "tags": []
   },
   "outputs": [
    {
     "name": "stdout",
     "output_type": "stream",
     "text": [
      "Loaded CLIP model and data in 2.38 seconds.\n"
     ]
    }
   ],
   "source": [
    "# Step 2: Interrogator 객체 생성\n",
    "ci = clip_interrogator.Interrogator(model_config)"
   ]
  },
  {
   "cell_type": "code",
   "execution_count": 16,
   "id": "576eaaa9",
   "metadata": {
    "execution": {
     "iopub.execute_input": "2023-04-19T00:55:33.905273Z",
     "iopub.status.busy": "2023-04-19T00:55:33.904094Z",
     "iopub.status.idle": "2023-04-19T00:55:33.910547Z",
     "shell.execute_reply": "2023-04-19T00:55:33.909596Z"
    },
    "papermill": {
     "duration": 0.018008,
     "end_time": "2023-04-19T00:55:33.912757",
     "exception": false,
     "start_time": "2023-04-19T00:55:33.894749",
     "status": "completed"
    },
    "tags": []
   },
   "outputs": [],
   "source": [
    "def image_to_features(image: Image) -> torch.Tensor:\n",
    "        ci._prepare_clip()\n",
    "        images = ci.clip_preprocess(image).unsqueeze(0).to(ci.device)\n",
    "        with torch.no_grad(), torch.cuda.amp.autocast():\n",
    "            image_features = ci.clip_model.encode_image(images)\n",
    "            image_features /= image_features.norm(dim=-1, keepdim=True)\n",
    "        return image_features\n",
    "    "
   ]
  },
  {
   "cell_type": "code",
   "execution_count": 17,
   "id": "4fc0aa7f",
   "metadata": {
    "execution": {
     "iopub.execute_input": "2023-04-19T00:55:33.930562Z",
     "iopub.status.busy": "2023-04-19T00:55:33.930285Z",
     "iopub.status.idle": "2023-04-19T00:55:33.937102Z",
     "shell.execute_reply": "2023-04-19T00:55:33.935971Z"
    },
    "papermill": {
     "duration": 0.01841,
     "end_time": "2023-04-19T00:55:33.939551",
     "exception": false,
     "start_time": "2023-04-19T00:55:33.921141",
     "status": "completed"
    },
    "tags": []
   },
   "outputs": [],
   "source": [
    "def interrogate_classic(image: Image,max_flavors: int=32) -> str:\n",
    "        \"\"\"Classic mode creates a prompt in a standard format first describing the image, \n",
    "        then listing the artist, trending, movement, and flavor text modifiers.\"\"\"\n",
    "        caption = ci.generate_caption(image)\n",
    "        image_features = ci.image_to_features(image)\n",
    "\n",
    "        medium = ci.mediums.rank(image_features, 1)[0]\n",
    "        movement = ci.movements.rank(image_features, 1)[0]\n",
    "        flaves = \", \".join(ci.flavors.rank(image_features, max_flavors))\n",
    "\n",
    "        if caption.startswith(medium):\n",
    "            prompt = f\"{caption} , {movement}, {flaves}\"\n",
    "        else:\n",
    "            prompt = f\"{caption}, {medium} , {movement}, {flaves}\"\n",
    "\n",
    "        return clip_interrogator._truncate_to_fit(prompt, ci.tokenize)"
   ]
  },
  {
   "cell_type": "code",
   "execution_count": 18,
   "id": "e138a412",
   "metadata": {
    "execution": {
     "iopub.execute_input": "2023-04-19T00:55:33.960095Z",
     "iopub.status.busy": "2023-04-19T00:55:33.958915Z",
     "iopub.status.idle": "2023-04-19T00:55:57.127059Z",
     "shell.execute_reply": "2023-04-19T00:55:57.125765Z"
    },
    "papermill": {
     "duration": 23.180857,
     "end_time": "2023-04-19T00:55:57.129396",
     "exception": false,
     "start_time": "2023-04-19T00:55:33.948539",
     "status": "completed"
    },
    "tags": []
   },
   "outputs": [
    {
     "name": "stderr",
     "output_type": "stream",
     "text": [
      "100%|██████████| 50/50 [00:00<00:00, 201.02it/s]\n",
      "100%|██████████| 50/50 [00:00<00:00, 186.27it/s]\n",
      "100%|██████████| 50/50 [00:00<00:00, 185.52it/s]\n",
      "100%|██████████| 50/50 [00:00<00:00, 197.44it/s]\n",
      "100%|██████████| 50/50 [00:00<00:00, 175.26it/s]\n",
      "100%|██████████| 50/50 [00:00<00:00, 104.89it/s]\n",
      "100%|██████████| 50/50 [00:00<00:00, 202.69it/s]\n"
     ]
    }
   ],
   "source": [
    "# #이미지에 적용\n",
    "prompts = []\n",
    "\n",
    "images_path = \"../input/stable-diffusion-image-to-prompts/images/\"\n",
    "for image_name in images:\n",
    "    img = Image.open(images_path + image_name).convert(\"RGB\")\n",
    "\n",
    "    generated = interrogate_classic(img)\n",
    "    \n",
    "    prompts.append(generated)"
   ]
  },
  {
   "cell_type": "code",
   "execution_count": 19,
   "id": "c2785c09",
   "metadata": {
    "execution": {
     "iopub.execute_input": "2023-04-19T00:55:57.151730Z",
     "iopub.status.busy": "2023-04-19T00:55:57.150870Z",
     "iopub.status.idle": "2023-04-19T00:55:57.199164Z",
     "shell.execute_reply": "2023-04-19T00:55:57.198095Z"
    },
    "papermill": {
     "duration": 0.061639,
     "end_time": "2023-04-19T00:55:57.201430",
     "exception": false,
     "start_time": "2023-04-19T00:55:57.139791",
     "status": "completed"
    },
    "tags": []
   },
   "outputs": [
    {
     "data": {
      "text/html": [
       "<div>\n",
       "<style scoped>\n",
       "    .dataframe tbody tr th:only-of-type {\n",
       "        vertical-align: middle;\n",
       "    }\n",
       "\n",
       "    .dataframe tbody tr th {\n",
       "        vertical-align: top;\n",
       "    }\n",
       "\n",
       "    .dataframe thead th {\n",
       "        text-align: right;\n",
       "    }\n",
       "</style>\n",
       "<table border=\"1\" class=\"dataframe\">\n",
       "  <thead>\n",
       "    <tr style=\"text-align: right;\">\n",
       "      <th></th>\n",
       "      <th>val</th>\n",
       "    </tr>\n",
       "    <tr>\n",
       "      <th>imgId_eId</th>\n",
       "      <th></th>\n",
       "    </tr>\n",
       "  </thead>\n",
       "  <tbody>\n",
       "    <tr>\n",
       "      <th>20057f34d_0</th>\n",
       "      <td>0.018848</td>\n",
       "    </tr>\n",
       "    <tr>\n",
       "      <th>20057f34d_1</th>\n",
       "      <td>0.030190</td>\n",
       "    </tr>\n",
       "    <tr>\n",
       "      <th>20057f34d_2</th>\n",
       "      <td>0.072792</td>\n",
       "    </tr>\n",
       "    <tr>\n",
       "      <th>20057f34d_3</th>\n",
       "      <td>-0.000673</td>\n",
       "    </tr>\n",
       "    <tr>\n",
       "      <th>20057f34d_4</th>\n",
       "      <td>0.016774</td>\n",
       "    </tr>\n",
       "  </tbody>\n",
       "</table>\n",
       "</div>"
      ],
      "text/plain": [
       "                  val\n",
       "imgId_eId            \n",
       "20057f34d_0  0.018848\n",
       "20057f34d_1  0.030190\n",
       "20057f34d_2  0.072792\n",
       "20057f34d_3 -0.000673\n",
       "20057f34d_4  0.016774"
      ]
     },
     "execution_count": 19,
     "metadata": {},
     "output_type": "execute_result"
    }
   ],
   "source": [
    "df_submission = pd.read_csv(path / 'sample_submission.csv', index_col='imgId_eId')\n",
    "df_submission.head()"
   ]
  },
  {
   "cell_type": "code",
   "execution_count": 20,
   "id": "33f829cb",
   "metadata": {
    "execution": {
     "iopub.execute_input": "2023-04-19T00:55:57.225167Z",
     "iopub.status.busy": "2023-04-19T00:55:57.223510Z",
     "iopub.status.idle": "2023-04-19T00:55:57.235158Z",
     "shell.execute_reply": "2023-04-19T00:55:57.234296Z"
    },
    "papermill": {
     "duration": 0.025327,
     "end_time": "2023-04-19T00:55:57.237176",
     "exception": false,
     "start_time": "2023-04-19T00:55:57.211849",
     "status": "completed"
    },
    "tags": []
   },
   "outputs": [],
   "source": [
    "images = os.listdir(path / 'images')\n",
    "imgIds = [i.split('.')[0] for i in images]\n",
    "\n",
    "eIds = list(range(CFG.embedding_length))\n",
    "\n",
    "imgId_eId = [\n",
    "    '_'.join(map(str, i)) for i in zip(\n",
    "        np.repeat(imgIds, CFG.embedding_length),\n",
    "        np.tile(range(CFG.embedding_length), len(imgIds))\n",
    "    )\n",
    "]\n",
    "\n",
    "assert sorted(imgId_eId) == sorted(df_submission.index)"
   ]
  },
  {
   "cell_type": "code",
   "execution_count": 21,
   "id": "8dfb439f",
   "metadata": {
    "execution": {
     "iopub.execute_input": "2023-04-19T00:55:57.259868Z",
     "iopub.status.busy": "2023-04-19T00:55:57.258231Z",
     "iopub.status.idle": "2023-04-19T00:55:57.352218Z",
     "shell.execute_reply": "2023-04-19T00:55:57.351117Z"
    },
    "papermill": {
     "duration": 0.10709,
     "end_time": "2023-04-19T00:55:57.354188",
     "exception": false,
     "start_time": "2023-04-19T00:55:57.247098",
     "status": "completed"
    },
    "tags": []
   },
   "outputs": [
    {
     "data": {
      "application/vnd.jupyter.widget-view+json": {
       "model_id": "c083fd53fe3b4070b2255e877616a9c0",
       "version_major": 2,
       "version_minor": 0
      },
      "text/plain": [
       "Batches:   0%|          | 0/1 [00:00<?, ?it/s]"
      ]
     },
     "metadata": {},
     "output_type": "display_data"
    }
   ],
   "source": [
    "embeddings2 = st_model.encode(prompts).flatten()\n"
   ]
  },
  {
   "cell_type": "code",
   "execution_count": null,
   "id": "fa96035b",
   "metadata": {
    "papermill": {
     "duration": 0.010175,
     "end_time": "2023-04-19T00:55:57.374923",
     "exception": false,
     "start_time": "2023-04-19T00:55:57.364748",
     "status": "completed"
    },
    "tags": []
   },
   "outputs": [],
   "source": []
  },
  {
   "cell_type": "code",
   "execution_count": null,
   "id": "cd65da59",
   "metadata": {
    "papermill": {
     "duration": 0.010144,
     "end_time": "2023-04-19T00:55:57.395268",
     "exception": false,
     "start_time": "2023-04-19T00:55:57.385124",
     "status": "completed"
    },
    "tags": []
   },
   "outputs": [],
   "source": []
  },
  {
   "cell_type": "markdown",
   "id": "4febf248",
   "metadata": {
    "papermill": {
     "duration": 0.010064,
     "end_time": "2023-04-19T00:55:57.415685",
     "exception": false,
     "start_time": "2023-04-19T00:55:57.405621",
     "status": "completed"
    },
    "tags": []
   },
   "source": [
    "# VIT "
   ]
  },
  {
   "cell_type": "code",
   "execution_count": 22,
   "id": "5725bfc5",
   "metadata": {
    "execution": {
     "iopub.execute_input": "2023-04-19T00:55:57.438011Z",
     "iopub.status.busy": "2023-04-19T00:55:57.437075Z",
     "iopub.status.idle": "2023-04-19T00:55:57.443303Z",
     "shell.execute_reply": "2023-04-19T00:55:57.442315Z"
    },
    "papermill": {
     "duration": 0.019716,
     "end_time": "2023-04-19T00:55:57.445466",
     "exception": false,
     "start_time": "2023-04-19T00:55:57.425750",
     "status": "completed"
    },
    "tags": []
   },
   "outputs": [],
   "source": [
    "import numpy as np\n",
    "import pandas as pd\n",
    "from pathlib import Path\n",
    "from PIL import Image\n",
    "from tqdm.notebook import tqdm\n",
    "import torch\n",
    "from torch.utils.data import Dataset, DataLoader\n",
    "from torchvision import transforms\n",
    "import timm\n",
    "from sklearn.preprocessing import normalize"
   ]
  },
  {
   "cell_type": "code",
   "execution_count": 23,
   "id": "3482207f",
   "metadata": {
    "execution": {
     "iopub.execute_input": "2023-04-19T00:55:57.470754Z",
     "iopub.status.busy": "2023-04-19T00:55:57.468679Z",
     "iopub.status.idle": "2023-04-19T00:55:57.476087Z",
     "shell.execute_reply": "2023-04-19T00:55:57.475127Z"
    },
    "papermill": {
     "duration": 0.021897,
     "end_time": "2023-04-19T00:55:57.478301",
     "exception": false,
     "start_time": "2023-04-19T00:55:57.456404",
     "status": "completed"
    },
    "tags": []
   },
   "outputs": [],
   "source": [
    "class DiffusionTestDataset(Dataset):\n",
    "    def __init__(self, images, transform):\n",
    "        self.images = images\n",
    "        self.transform = transform\n",
    "    \n",
    "    def __len__(self):\n",
    "        return len(self.images)\n",
    "\n",
    "    def __getitem__(self, idx):\n",
    "        image = Image.open(self.images[idx])\n",
    "        image = self.transform(image)\n",
    "        return image"
   ]
  },
  {
   "cell_type": "code",
   "execution_count": 24,
   "id": "c3691590",
   "metadata": {
    "execution": {
     "iopub.execute_input": "2023-04-19T00:55:57.502232Z",
     "iopub.status.busy": "2023-04-19T00:55:57.501325Z",
     "iopub.status.idle": "2023-04-19T00:55:57.512980Z",
     "shell.execute_reply": "2023-04-19T00:55:57.512067Z"
    },
    "papermill": {
     "duration": 0.025817,
     "end_time": "2023-04-19T00:55:57.515097",
     "exception": false,
     "start_time": "2023-04-19T00:55:57.489280",
     "status": "completed"
    },
    "tags": []
   },
   "outputs": [],
   "source": [
    "def predict(\n",
    "    images,\n",
    "    model_path,\n",
    "    model_name,\n",
    "    input_size,\n",
    "    batch_size,\n",
    "    learning_rate\n",
    "):\n",
    "    device = torch.device('cuda' if torch.cuda.is_available() else 'cpu')\n",
    "    transform = transforms.Compose([\n",
    "        transforms.Resize(input_size),\n",
    "        transforms.RandomHorizontalFlip(p=0.5),\n",
    "#         transforms.RandomRotation(degrees=10),\n",
    "\n",
    "        # transforms.RandomVerticalFlip(p=0.5),\n",
    "        transforms.ToTensor(),\n",
    "        transforms.Normalize([0.485, 0.456, 0.406], [0.229, 0.224, 0.225]),\n",
    "    ])\n",
    "    dataset = DiffusionTestDataset(images, transform)\n",
    "    dataloader = DataLoader(\n",
    "        dataset=dataset,\n",
    "        shuffle=False,\n",
    "        batch_size=batch_size,\n",
    "        pin_memory=True,\n",
    "        num_workers=2,\n",
    "        drop_last=False\n",
    "    )\n",
    "\n",
    "    model = timm.create_model(\n",
    "        model_name,\n",
    "        pretrained=False,\n",
    "        num_classes=384\n",
    "    )\n",
    "    state_dict = torch.load(model_path)\n",
    "    model.load_state_dict(state_dict)\n",
    "    model.to(device)\n",
    "    model.eval()\n",
    "    \n",
    "    tta_preds = None\n",
    "    for _ in range(2):\n",
    "        preds = []\n",
    "        for X in tqdm(dataloader, leave=False):\n",
    "            X = X.to(device)\n",
    "\n",
    "            with torch.no_grad():\n",
    "                X_out = model(X).cpu().numpy()\n",
    "                # L2 normalize -- Start\n",
    "                X_out = X_out / ( np.abs(X_out).max(axis=-1, keepdims=True) + 0.0000001)  # To avoid to overflow at normalize()\n",
    "                X_out = normalize( X_out )\n",
    "                # L2 normalize -- End\n",
    "                preds.append(X_out)\n",
    "                \n",
    "        if tta_preds is None:\n",
    "            tta_preds = np.vstack(preds).flatten()\n",
    "        else:\n",
    "            tta_preds += np.vstack(preds).flatten()\n",
    "    \n",
    "    return tta_preds / 2"
   ]
  },
  {
   "cell_type": "code",
   "execution_count": 25,
   "id": "3ae9828d",
   "metadata": {
    "execution": {
     "iopub.execute_input": "2023-04-19T00:55:57.538775Z",
     "iopub.status.busy": "2023-04-19T00:55:57.537190Z",
     "iopub.status.idle": "2023-04-19T00:55:57.542892Z",
     "shell.execute_reply": "2023-04-19T00:55:57.541973Z"
    },
    "papermill": {
     "duration": 0.019271,
     "end_time": "2023-04-19T00:55:57.544962",
     "exception": false,
     "start_time": "2023-04-19T00:55:57.525691",
     "status": "completed"
    },
    "tags": []
   },
   "outputs": [],
   "source": [
    "import itertools\n",
    "\n",
    "# 하이퍼파라미터 조합 생성\n",
    "param_grid = {\n",
    "    'model_path': ['/kaggle/input/stable-diffusion-vit-baseline-train/vit_base_patch16_224.pth'],\n",
    "    'model_name': ['vit_base_patch16_224'],\n",
    "    'input_size': [224],\n",
    "    'batch_size': [16, 32, 64, 128, 256],\n",
    "    'patch_size': [8, 16, 32],\n",
    "    'learning_rate': [1e-5, 1e-4, 1e-3]\n",
    "}\n",
    "\n",
    "param_list = list(itertools.product(*param_grid.values()))\n",
    "\n",
    "# 결과 저장을 위한 딕셔너리 생성\n",
    "results = {}\n",
    "\n",
    "# 하이퍼파라미터 조합마다 predict 수행\n",
    "for params in param_list:\n",
    "    # 딕셔너리 형태로 변환\n",
    "    params_dict = {list(param_grid.keys())[i]: params[i] for i in range(len(params))}\n",
    "    print(\"Testing params:\", params_dict)\n",
    "    \n",
    "    # predict 수행\n",
    "    embeddings = predict(images, params_dict['model_path'], params_dict['model_name'], \n",
    "                         params_dict['input_size'], params_dict['batch_size'], params_dict['learning_rate'])\n",
    "    \n",
    "    # 결과 저장\n",
    "    results[str(params_dict)] = embeddings.mean()\n",
    "    \n",
    "# 결과 출력\n",
    "print(\"Results:\", results)\n",
    "\n",
    "# 최적의 조합 찾기\n",
    "best_params = max(results, key=results.get)\n",
    "print(\"Best params:\", best_params)"
   ]
  },
  {
   "cell_type": "code",
   "execution_count": 26,
   "id": "e291cba7",
   "metadata": {
    "execution": {
     "iopub.execute_input": "2023-04-19T00:55:57.567471Z",
     "iopub.status.busy": "2023-04-19T00:55:57.566808Z",
     "iopub.status.idle": "2023-04-19T00:55:57.572684Z",
     "shell.execute_reply": "2023-04-19T00:55:57.571772Z"
    },
    "papermill": {
     "duration": 0.01918,
     "end_time": "2023-04-19T00:55:57.574670",
     "exception": false,
     "start_time": "2023-04-19T00:55:57.555490",
     "status": "completed"
    },
    "tags": []
   },
   "outputs": [],
   "source": [
    "class CFG:\n",
    "    model_path = '/kaggle/input/stable-diffusion-vit-baseline-train/vit_base_patch16_224.pth'\n",
    "    model_name = 'vit_base_patch16_224'\n",
    "    input_size = 224\n",
    "    batch_size = 256\n",
    "    patch_size = 8\n",
    "    learning_rate = 0.001"
   ]
  },
  {
   "cell_type": "code",
   "execution_count": 27,
   "id": "35467f61",
   "metadata": {
    "execution": {
     "iopub.execute_input": "2023-04-19T00:55:57.597206Z",
     "iopub.status.busy": "2023-04-19T00:55:57.596444Z",
     "iopub.status.idle": "2023-04-19T00:56:03.780227Z",
     "shell.execute_reply": "2023-04-19T00:56:03.778548Z"
    },
    "papermill": {
     "duration": 6.202386,
     "end_time": "2023-04-19T00:56:03.787308",
     "exception": false,
     "start_time": "2023-04-19T00:55:57.584922",
     "status": "completed"
    },
    "tags": []
   },
   "outputs": [
    {
     "data": {
      "application/vnd.jupyter.widget-view+json": {
       "model_id": "24808221d712411ca13d86c63fbb803e",
       "version_major": 2,
       "version_minor": 0
      },
      "text/plain": [
       "  0%|          | 0/1 [00:00<?, ?it/s]"
      ]
     },
     "metadata": {},
     "output_type": "display_data"
    },
    {
     "data": {
      "application/vnd.jupyter.widget-view+json": {
       "model_id": "0f7be5e7776c4147a757bd1a46558b6e",
       "version_major": 2,
       "version_minor": 0
      },
      "text/plain": [
       "  0%|          | 0/1 [00:00<?, ?it/s]"
      ]
     },
     "metadata": {},
     "output_type": "display_data"
    }
   ],
   "source": [
    "images = list(Path('/kaggle/input/stable-diffusion-image-to-prompts/images').glob('*.png'))\n",
    "imgIds = [i.stem for i in images]\n",
    "EMBEDDING_LENGTH = 384\n",
    "imgId_eId = [\n",
    "    '_'.join(map(str, i)) for i in zip(\n",
    "        np.repeat(imgIds, EMBEDDING_LENGTH),\n",
    "        np.tile(range(EMBEDDING_LENGTH), len(imgIds)))]\n",
    "\n",
    "embeddings3 = predict(images, CFG.model_path, CFG.model_name, CFG.input_size, CFG.batch_size, CFG.learning_rate)"
   ]
  },
  {
   "cell_type": "markdown",
   "id": "96047757",
   "metadata": {
    "papermill": {
     "duration": 0.012481,
     "end_time": "2023-04-19T00:56:03.820824",
     "exception": false,
     "start_time": "2023-04-19T00:56:03.808343",
     "status": "completed"
    },
    "tags": []
   },
   "source": [
    "# ENSEMBLE THE OUTPUTS"
   ]
  },
  {
   "cell_type": "code",
   "execution_count": 28,
   "id": "a4b502e3",
   "metadata": {
    "execution": {
     "iopub.execute_input": "2023-04-19T00:56:03.846388Z",
     "iopub.status.busy": "2023-04-19T00:56:03.845971Z",
     "iopub.status.idle": "2023-04-19T00:56:03.851972Z",
     "shell.execute_reply": "2023-04-19T00:56:03.850729Z"
    },
    "papermill": {
     "duration": 0.022212,
     "end_time": "2023-04-19T00:56:03.854806",
     "exception": false,
     "start_time": "2023-04-19T00:56:03.832594",
     "status": "completed"
    },
    "tags": []
   },
   "outputs": [],
   "source": [
    "embeddings = embeddings2*ratio_CLIP_Interrogator + ratio_ViT_B_16 * embeddings3"
   ]
  },
  {
   "cell_type": "code",
   "execution_count": 29,
   "id": "e9476f23",
   "metadata": {
    "execution": {
     "iopub.execute_input": "2023-04-19T00:56:03.879871Z",
     "iopub.status.busy": "2023-04-19T00:56:03.879475Z",
     "iopub.status.idle": "2023-04-19T00:56:03.886253Z",
     "shell.execute_reply": "2023-04-19T00:56:03.885133Z"
    },
    "papermill": {
     "duration": 0.022018,
     "end_time": "2023-04-19T00:56:03.888451",
     "exception": false,
     "start_time": "2023-04-19T00:56:03.866433",
     "status": "completed"
    },
    "tags": []
   },
   "outputs": [],
   "source": [
    "submission = pd.DataFrame(\n",
    "    index=imgId_eId,\n",
    "    data=embeddings,\n",
    "    columns=['val']\n",
    ").rename_axis('imgId_eId')"
   ]
  },
  {
   "cell_type": "code",
   "execution_count": 30,
   "id": "b07e1128",
   "metadata": {
    "execution": {
     "iopub.execute_input": "2023-04-19T00:56:03.913026Z",
     "iopub.status.busy": "2023-04-19T00:56:03.912656Z",
     "iopub.status.idle": "2023-04-19T00:56:03.924717Z",
     "shell.execute_reply": "2023-04-19T00:56:03.923527Z"
    },
    "papermill": {
     "duration": 0.027369,
     "end_time": "2023-04-19T00:56:03.927298",
     "exception": false,
     "start_time": "2023-04-19T00:56:03.899929",
     "status": "completed"
    },
    "tags": []
   },
   "outputs": [
    {
     "data": {
      "text/html": [
       "<div>\n",
       "<style scoped>\n",
       "    .dataframe tbody tr th:only-of-type {\n",
       "        vertical-align: middle;\n",
       "    }\n",
       "\n",
       "    .dataframe tbody tr th {\n",
       "        vertical-align: top;\n",
       "    }\n",
       "\n",
       "    .dataframe thead th {\n",
       "        text-align: right;\n",
       "    }\n",
       "</style>\n",
       "<table border=\"1\" class=\"dataframe\">\n",
       "  <thead>\n",
       "    <tr style=\"text-align: right;\">\n",
       "      <th></th>\n",
       "      <th>val</th>\n",
       "    </tr>\n",
       "    <tr>\n",
       "      <th>imgId_eId</th>\n",
       "      <th></th>\n",
       "    </tr>\n",
       "  </thead>\n",
       "  <tbody>\n",
       "    <tr>\n",
       "      <th>f27825b2c_0</th>\n",
       "      <td>-0.030706</td>\n",
       "    </tr>\n",
       "    <tr>\n",
       "      <th>f27825b2c_1</th>\n",
       "      <td>0.045031</td>\n",
       "    </tr>\n",
       "    <tr>\n",
       "      <th>f27825b2c_2</th>\n",
       "      <td>-0.031132</td>\n",
       "    </tr>\n",
       "    <tr>\n",
       "      <th>f27825b2c_3</th>\n",
       "      <td>-0.045387</td>\n",
       "    </tr>\n",
       "    <tr>\n",
       "      <th>f27825b2c_4</th>\n",
       "      <td>-0.060089</td>\n",
       "    </tr>\n",
       "  </tbody>\n",
       "</table>\n",
       "</div>"
      ],
      "text/plain": [
       "                  val\n",
       "imgId_eId            \n",
       "f27825b2c_0 -0.030706\n",
       "f27825b2c_1  0.045031\n",
       "f27825b2c_2 -0.031132\n",
       "f27825b2c_3 -0.045387\n",
       "f27825b2c_4 -0.060089"
      ]
     },
     "execution_count": 30,
     "metadata": {},
     "output_type": "execute_result"
    }
   ],
   "source": [
    "submission.head()"
   ]
  },
  {
   "cell_type": "code",
   "execution_count": 31,
   "id": "95a93747",
   "metadata": {
    "execution": {
     "iopub.execute_input": "2023-04-19T00:56:03.954431Z",
     "iopub.status.busy": "2023-04-19T00:56:03.953889Z",
     "iopub.status.idle": "2023-04-19T00:56:03.969266Z",
     "shell.execute_reply": "2023-04-19T00:56:03.968122Z"
    },
    "papermill": {
     "duration": 0.032384,
     "end_time": "2023-04-19T00:56:03.972291",
     "exception": false,
     "start_time": "2023-04-19T00:56:03.939907",
     "status": "completed"
    },
    "tags": []
   },
   "outputs": [],
   "source": [
    "submission.to_csv('submission.csv')"
   ]
  },
  {
   "cell_type": "code",
   "execution_count": null,
   "id": "30d6d4e8",
   "metadata": {
    "papermill": {
     "duration": 0.01114,
     "end_time": "2023-04-19T00:56:03.995152",
     "exception": false,
     "start_time": "2023-04-19T00:56:03.984012",
     "status": "completed"
    },
    "tags": []
   },
   "outputs": [],
   "source": []
  }
 ],
 "metadata": {
  "kernelspec": {
   "display_name": "Python 3",
   "language": "python",
   "name": "python3"
  },
  "language_info": {
   "codemirror_mode": {
    "name": "ipython",
    "version": 3
   },
   "file_extension": ".py",
   "mimetype": "text/x-python",
   "name": "python",
   "nbconvert_exporter": "python",
   "pygments_lexer": "ipython3",
   "version": "3.7.12"
  },
  "papermill": {
   "default_parameters": {},
   "duration": 499.76302,
   "end_time": "2023-04-19T00:56:07.740901",
   "environment_variables": {},
   "exception": null,
   "input_path": "__notebook__.ipynb",
   "output_path": "__notebook__.ipynb",
   "parameters": {},
   "start_time": "2023-04-19T00:47:47.977881",
   "version": "2.3.4"
  },
  "widgets": {
   "application/vnd.jupyter.widget-state+json": {
    "state": {
     "04e2a7527eb94c0384841aa4fbf82705": {
      "model_module": "@jupyter-widgets/base",
      "model_module_version": "1.2.0",
      "model_name": "LayoutModel",
      "state": {
       "_model_module": "@jupyter-widgets/base",
       "_model_module_version": "1.2.0",
       "_model_name": "LayoutModel",
       "_view_count": null,
       "_view_module": "@jupyter-widgets/base",
       "_view_module_version": "1.2.0",
       "_view_name": "LayoutView",
       "align_content": null,
       "align_items": null,
       "align_self": null,
       "border": null,
       "bottom": null,
       "display": null,
       "flex": null,
       "flex_flow": null,
       "grid_area": null,
       "grid_auto_columns": null,
       "grid_auto_flow": null,
       "grid_auto_rows": null,
       "grid_column": null,
       "grid_gap": null,
       "grid_row": null,
       "grid_template_areas": null,
       "grid_template_columns": null,
       "grid_template_rows": null,
       "height": null,
       "justify_content": null,
       "justify_items": null,
       "left": null,
       "margin": null,
       "max_height": null,
       "max_width": null,
       "min_height": null,
       "min_width": null,
       "object_fit": null,
       "object_position": null,
       "order": null,
       "overflow": null,
       "overflow_x": null,
       "overflow_y": null,
       "padding": null,
       "right": null,
       "top": null,
       "visibility": null,
       "width": null
      }
     },
     "0a8d6ddfecd74fa7a76595af7e2d17a2": {
      "model_module": "@jupyter-widgets/base",
      "model_module_version": "1.2.0",
      "model_name": "LayoutModel",
      "state": {
       "_model_module": "@jupyter-widgets/base",
       "_model_module_version": "1.2.0",
       "_model_name": "LayoutModel",
       "_view_count": null,
       "_view_module": "@jupyter-widgets/base",
       "_view_module_version": "1.2.0",
       "_view_name": "LayoutView",
       "align_content": null,
       "align_items": null,
       "align_self": null,
       "border": null,
       "bottom": null,
       "display": null,
       "flex": null,
       "flex_flow": null,
       "grid_area": null,
       "grid_auto_columns": null,
       "grid_auto_flow": null,
       "grid_auto_rows": null,
       "grid_column": null,
       "grid_gap": null,
       "grid_row": null,
       "grid_template_areas": null,
       "grid_template_columns": null,
       "grid_template_rows": null,
       "height": null,
       "justify_content": null,
       "justify_items": null,
       "left": null,
       "margin": null,
       "max_height": null,
       "max_width": null,
       "min_height": null,
       "min_width": null,
       "object_fit": null,
       "object_position": null,
       "order": null,
       "overflow": null,
       "overflow_x": null,
       "overflow_y": null,
       "padding": null,
       "right": null,
       "top": null,
       "visibility": null,
       "width": null
      }
     },
     "0ae7ea672aca41d29439bf3908490f26": {
      "model_module": "@jupyter-widgets/base",
      "model_module_version": "1.2.0",
      "model_name": "LayoutModel",
      "state": {
       "_model_module": "@jupyter-widgets/base",
       "_model_module_version": "1.2.0",
       "_model_name": "LayoutModel",
       "_view_count": null,
       "_view_module": "@jupyter-widgets/base",
       "_view_module_version": "1.2.0",
       "_view_name": "LayoutView",
       "align_content": null,
       "align_items": null,
       "align_self": null,
       "border": null,
       "bottom": null,
       "display": null,
       "flex": null,
       "flex_flow": null,
       "grid_area": null,
       "grid_auto_columns": null,
       "grid_auto_flow": null,
       "grid_auto_rows": null,
       "grid_column": null,
       "grid_gap": null,
       "grid_row": null,
       "grid_template_areas": null,
       "grid_template_columns": null,
       "grid_template_rows": null,
       "height": null,
       "justify_content": null,
       "justify_items": null,
       "left": null,
       "margin": null,
       "max_height": null,
       "max_width": null,
       "min_height": null,
       "min_width": null,
       "object_fit": null,
       "object_position": null,
       "order": null,
       "overflow": null,
       "overflow_x": null,
       "overflow_y": null,
       "padding": null,
       "right": null,
       "top": null,
       "visibility": null,
       "width": null
      }
     },
     "0f41646703264295baa93c88cc622371": {
      "model_module": "@jupyter-widgets/controls",
      "model_module_version": "1.5.0",
      "model_name": "DescriptionStyleModel",
      "state": {
       "_model_module": "@jupyter-widgets/controls",
       "_model_module_version": "1.5.0",
       "_model_name": "DescriptionStyleModel",
       "_view_count": null,
       "_view_module": "@jupyter-widgets/base",
       "_view_module_version": "1.2.0",
       "_view_name": "StyleView",
       "description_width": ""
      }
     },
     "0f7be5e7776c4147a757bd1a46558b6e": {
      "model_module": "@jupyter-widgets/controls",
      "model_module_version": "1.5.0",
      "model_name": "HBoxModel",
      "state": {
       "_dom_classes": [],
       "_model_module": "@jupyter-widgets/controls",
       "_model_module_version": "1.5.0",
       "_model_name": "HBoxModel",
       "_view_count": null,
       "_view_module": "@jupyter-widgets/controls",
       "_view_module_version": "1.5.0",
       "_view_name": "HBoxView",
       "box_style": "",
       "children": [
        "IPY_MODEL_9494349bcad54776ab304d5455d513fe",
        "IPY_MODEL_4ba8a86c86774dc9be33673c6277b474",
        "IPY_MODEL_7cecc1bfb1a04223961376e840713a13"
       ],
       "layout": "IPY_MODEL_f47b31408800495ebfac54bb11e83bda"
      }
     },
     "164d2f3891aa4d9886ebd7360de71f2f": {
      "model_module": "@jupyter-widgets/controls",
      "model_module_version": "1.5.0",
      "model_name": "HTMLModel",
      "state": {
       "_dom_classes": [],
       "_model_module": "@jupyter-widgets/controls",
       "_model_module_version": "1.5.0",
       "_model_name": "HTMLModel",
       "_view_count": null,
       "_view_module": "@jupyter-widgets/controls",
       "_view_module_version": "1.5.0",
       "_view_name": "HTMLView",
       "description": "",
       "description_tooltip": null,
       "layout": "IPY_MODEL_189e25ca7065499bb9a957a34b4916c0",
       "placeholder": "​",
       "style": "IPY_MODEL_c57940180a8e48f4a121265a57dcf8f3",
       "value": " 1/1 [00:00&lt;00:00, 17.95it/s]"
      }
     },
     "189e25ca7065499bb9a957a34b4916c0": {
      "model_module": "@jupyter-widgets/base",
      "model_module_version": "1.2.0",
      "model_name": "LayoutModel",
      "state": {
       "_model_module": "@jupyter-widgets/base",
       "_model_module_version": "1.2.0",
       "_model_name": "LayoutModel",
       "_view_count": null,
       "_view_module": "@jupyter-widgets/base",
       "_view_module_version": "1.2.0",
       "_view_name": "LayoutView",
       "align_content": null,
       "align_items": null,
       "align_self": null,
       "border": null,
       "bottom": null,
       "display": null,
       "flex": null,
       "flex_flow": null,
       "grid_area": null,
       "grid_auto_columns": null,
       "grid_auto_flow": null,
       "grid_auto_rows": null,
       "grid_column": null,
       "grid_gap": null,
       "grid_row": null,
       "grid_template_areas": null,
       "grid_template_columns": null,
       "grid_template_rows": null,
       "height": null,
       "justify_content": null,
       "justify_items": null,
       "left": null,
       "margin": null,
       "max_height": null,
       "max_width": null,
       "min_height": null,
       "min_width": null,
       "object_fit": null,
       "object_position": null,
       "order": null,
       "overflow": null,
       "overflow_x": null,
       "overflow_y": null,
       "padding": null,
       "right": null,
       "top": null,
       "visibility": null,
       "width": null
      }
     },
     "24808221d712411ca13d86c63fbb803e": {
      "model_module": "@jupyter-widgets/controls",
      "model_module_version": "1.5.0",
      "model_name": "HBoxModel",
      "state": {
       "_dom_classes": [],
       "_model_module": "@jupyter-widgets/controls",
       "_model_module_version": "1.5.0",
       "_model_name": "HBoxModel",
       "_view_count": null,
       "_view_module": "@jupyter-widgets/controls",
       "_view_module_version": "1.5.0",
       "_view_name": "HBoxView",
       "box_style": "",
       "children": [
        "IPY_MODEL_97d0fe362ac648008382bc067e884d1c",
        "IPY_MODEL_460fa29c75d142d5af3a669b2b5520f8",
        "IPY_MODEL_8e1cbb7e124942d8b0727e54109f7e3b"
       ],
       "layout": "IPY_MODEL_7c48a337627c41ca8423ab6136744f9d"
      }
     },
     "37f12cacbfcd41fca9402db4778eaad7": {
      "model_module": "@jupyter-widgets/base",
      "model_module_version": "1.2.0",
      "model_name": "LayoutModel",
      "state": {
       "_model_module": "@jupyter-widgets/base",
       "_model_module_version": "1.2.0",
       "_model_name": "LayoutModel",
       "_view_count": null,
       "_view_module": "@jupyter-widgets/base",
       "_view_module_version": "1.2.0",
       "_view_name": "LayoutView",
       "align_content": null,
       "align_items": null,
       "align_self": null,
       "border": null,
       "bottom": null,
       "display": null,
       "flex": null,
       "flex_flow": null,
       "grid_area": null,
       "grid_auto_columns": null,
       "grid_auto_flow": null,
       "grid_auto_rows": null,
       "grid_column": null,
       "grid_gap": null,
       "grid_row": null,
       "grid_template_areas": null,
       "grid_template_columns": null,
       "grid_template_rows": null,
       "height": null,
       "justify_content": null,
       "justify_items": null,
       "left": null,
       "margin": null,
       "max_height": null,
       "max_width": null,
       "min_height": null,
       "min_width": null,
       "object_fit": null,
       "object_position": null,
       "order": null,
       "overflow": null,
       "overflow_x": null,
       "overflow_y": null,
       "padding": null,
       "right": null,
       "top": null,
       "visibility": null,
       "width": null
      }
     },
     "3baad5c95e804decb534fe9505e0438a": {
      "model_module": "@jupyter-widgets/base",
      "model_module_version": "1.2.0",
      "model_name": "LayoutModel",
      "state": {
       "_model_module": "@jupyter-widgets/base",
       "_model_module_version": "1.2.0",
       "_model_name": "LayoutModel",
       "_view_count": null,
       "_view_module": "@jupyter-widgets/base",
       "_view_module_version": "1.2.0",
       "_view_name": "LayoutView",
       "align_content": null,
       "align_items": null,
       "align_self": null,
       "border": null,
       "bottom": null,
       "display": null,
       "flex": null,
       "flex_flow": null,
       "grid_area": null,
       "grid_auto_columns": null,
       "grid_auto_flow": null,
       "grid_auto_rows": null,
       "grid_column": null,
       "grid_gap": null,
       "grid_row": null,
       "grid_template_areas": null,
       "grid_template_columns": null,
       "grid_template_rows": null,
       "height": null,
       "justify_content": null,
       "justify_items": null,
       "left": null,
       "margin": null,
       "max_height": null,
       "max_width": null,
       "min_height": null,
       "min_width": null,
       "object_fit": null,
       "object_position": null,
       "order": null,
       "overflow": null,
       "overflow_x": null,
       "overflow_y": null,
       "padding": null,
       "right": null,
       "top": null,
       "visibility": null,
       "width": null
      }
     },
     "45ea9e1a7eaf4e1eabbf195bb82d3fb0": {
      "model_module": "@jupyter-widgets/controls",
      "model_module_version": "1.5.0",
      "model_name": "DescriptionStyleModel",
      "state": {
       "_model_module": "@jupyter-widgets/controls",
       "_model_module_version": "1.5.0",
       "_model_name": "DescriptionStyleModel",
       "_view_count": null,
       "_view_module": "@jupyter-widgets/base",
       "_view_module_version": "1.2.0",
       "_view_name": "StyleView",
       "description_width": ""
      }
     },
     "460fa29c75d142d5af3a669b2b5520f8": {
      "model_module": "@jupyter-widgets/controls",
      "model_module_version": "1.5.0",
      "model_name": "FloatProgressModel",
      "state": {
       "_dom_classes": [],
       "_model_module": "@jupyter-widgets/controls",
       "_model_module_version": "1.5.0",
       "_model_name": "FloatProgressModel",
       "_view_count": null,
       "_view_module": "@jupyter-widgets/controls",
       "_view_module_version": "1.5.0",
       "_view_name": "ProgressView",
       "bar_style": "",
       "description": "",
       "description_tooltip": null,
       "layout": "IPY_MODEL_0a8d6ddfecd74fa7a76595af7e2d17a2",
       "max": 1,
       "min": 0,
       "orientation": "horizontal",
       "style": "IPY_MODEL_eb75ddfcf4394d61bb66904df6c74fc4",
       "value": 1
      }
     },
     "4ba8a86c86774dc9be33673c6277b474": {
      "model_module": "@jupyter-widgets/controls",
      "model_module_version": "1.5.0",
      "model_name": "FloatProgressModel",
      "state": {
       "_dom_classes": [],
       "_model_module": "@jupyter-widgets/controls",
       "_model_module_version": "1.5.0",
       "_model_name": "FloatProgressModel",
       "_view_count": null,
       "_view_module": "@jupyter-widgets/controls",
       "_view_module_version": "1.5.0",
       "_view_name": "ProgressView",
       "bar_style": "",
       "description": "",
       "description_tooltip": null,
       "layout": "IPY_MODEL_cbc456437280460c80650f6732cee4ff",
       "max": 1,
       "min": 0,
       "orientation": "horizontal",
       "style": "IPY_MODEL_5413c3964fd94cafa95d6f7e5b56967d",
       "value": 1
      }
     },
     "5413c3964fd94cafa95d6f7e5b56967d": {
      "model_module": "@jupyter-widgets/controls",
      "model_module_version": "1.5.0",
      "model_name": "ProgressStyleModel",
      "state": {
       "_model_module": "@jupyter-widgets/controls",
       "_model_module_version": "1.5.0",
       "_model_name": "ProgressStyleModel",
       "_view_count": null,
       "_view_module": "@jupyter-widgets/base",
       "_view_module_version": "1.2.0",
       "_view_name": "StyleView",
       "bar_color": null,
       "description_width": ""
      }
     },
     "57e7d798f58f4e61856157702f9f922b": {
      "model_module": "@jupyter-widgets/base",
      "model_module_version": "1.2.0",
      "model_name": "LayoutModel",
      "state": {
       "_model_module": "@jupyter-widgets/base",
       "_model_module_version": "1.2.0",
       "_model_name": "LayoutModel",
       "_view_count": null,
       "_view_module": "@jupyter-widgets/base",
       "_view_module_version": "1.2.0",
       "_view_name": "LayoutView",
       "align_content": null,
       "align_items": null,
       "align_self": null,
       "border": null,
       "bottom": null,
       "display": null,
       "flex": null,
       "flex_flow": null,
       "grid_area": null,
       "grid_auto_columns": null,
       "grid_auto_flow": null,
       "grid_auto_rows": null,
       "grid_column": null,
       "grid_gap": null,
       "grid_row": null,
       "grid_template_areas": null,
       "grid_template_columns": null,
       "grid_template_rows": null,
       "height": null,
       "justify_content": null,
       "justify_items": null,
       "left": null,
       "margin": null,
       "max_height": null,
       "max_width": null,
       "min_height": null,
       "min_width": null,
       "object_fit": null,
       "object_position": null,
       "order": null,
       "overflow": null,
       "overflow_x": null,
       "overflow_y": null,
       "padding": null,
       "right": null,
       "top": null,
       "visibility": null,
       "width": null
      }
     },
     "65be8f75efe74f76bf045ed7f04a5cfc": {
      "model_module": "@jupyter-widgets/controls",
      "model_module_version": "1.5.0",
      "model_name": "DescriptionStyleModel",
      "state": {
       "_model_module": "@jupyter-widgets/controls",
       "_model_module_version": "1.5.0",
       "_model_name": "DescriptionStyleModel",
       "_view_count": null,
       "_view_module": "@jupyter-widgets/base",
       "_view_module_version": "1.2.0",
       "_view_name": "StyleView",
       "description_width": ""
      }
     },
     "69bdcc7d8dd049faa2a57dedd2d59fda": {
      "model_module": "@jupyter-widgets/base",
      "model_module_version": "1.2.0",
      "model_name": "LayoutModel",
      "state": {
       "_model_module": "@jupyter-widgets/base",
       "_model_module_version": "1.2.0",
       "_model_name": "LayoutModel",
       "_view_count": null,
       "_view_module": "@jupyter-widgets/base",
       "_view_module_version": "1.2.0",
       "_view_name": "LayoutView",
       "align_content": null,
       "align_items": null,
       "align_self": null,
       "border": null,
       "bottom": null,
       "display": null,
       "flex": null,
       "flex_flow": null,
       "grid_area": null,
       "grid_auto_columns": null,
       "grid_auto_flow": null,
       "grid_auto_rows": null,
       "grid_column": null,
       "grid_gap": null,
       "grid_row": null,
       "grid_template_areas": null,
       "grid_template_columns": null,
       "grid_template_rows": null,
       "height": null,
       "justify_content": null,
       "justify_items": null,
       "left": null,
       "margin": null,
       "max_height": null,
       "max_width": null,
       "min_height": null,
       "min_width": null,
       "object_fit": null,
       "object_position": null,
       "order": null,
       "overflow": null,
       "overflow_x": null,
       "overflow_y": null,
       "padding": null,
       "right": null,
       "top": null,
       "visibility": null,
       "width": null
      }
     },
     "6e666960966c41488711ff704864aad7": {
      "model_module": "@jupyter-widgets/controls",
      "model_module_version": "1.5.0",
      "model_name": "DescriptionStyleModel",
      "state": {
       "_model_module": "@jupyter-widgets/controls",
       "_model_module_version": "1.5.0",
       "_model_name": "DescriptionStyleModel",
       "_view_count": null,
       "_view_module": "@jupyter-widgets/base",
       "_view_module_version": "1.2.0",
       "_view_name": "StyleView",
       "description_width": ""
      }
     },
     "7c48a337627c41ca8423ab6136744f9d": {
      "model_module": "@jupyter-widgets/base",
      "model_module_version": "1.2.0",
      "model_name": "LayoutModel",
      "state": {
       "_model_module": "@jupyter-widgets/base",
       "_model_module_version": "1.2.0",
       "_model_name": "LayoutModel",
       "_view_count": null,
       "_view_module": "@jupyter-widgets/base",
       "_view_module_version": "1.2.0",
       "_view_name": "LayoutView",
       "align_content": null,
       "align_items": null,
       "align_self": null,
       "border": null,
       "bottom": null,
       "display": null,
       "flex": null,
       "flex_flow": null,
       "grid_area": null,
       "grid_auto_columns": null,
       "grid_auto_flow": null,
       "grid_auto_rows": null,
       "grid_column": null,
       "grid_gap": null,
       "grid_row": null,
       "grid_template_areas": null,
       "grid_template_columns": null,
       "grid_template_rows": null,
       "height": null,
       "justify_content": null,
       "justify_items": null,
       "left": null,
       "margin": null,
       "max_height": null,
       "max_width": null,
       "min_height": null,
       "min_width": null,
       "object_fit": null,
       "object_position": null,
       "order": null,
       "overflow": null,
       "overflow_x": null,
       "overflow_y": null,
       "padding": null,
       "right": null,
       "top": null,
       "visibility": null,
       "width": null
      }
     },
     "7cecc1bfb1a04223961376e840713a13": {
      "model_module": "@jupyter-widgets/controls",
      "model_module_version": "1.5.0",
      "model_name": "HTMLModel",
      "state": {
       "_dom_classes": [],
       "_model_module": "@jupyter-widgets/controls",
       "_model_module_version": "1.5.0",
       "_model_name": "HTMLModel",
       "_view_count": null,
       "_view_module": "@jupyter-widgets/controls",
       "_view_module_version": "1.5.0",
       "_view_name": "HTMLView",
       "description": "",
       "description_tooltip": null,
       "layout": "IPY_MODEL_ea878e0c90e94cc8a5e9c4674ff0732e",
       "placeholder": "​",
       "style": "IPY_MODEL_65be8f75efe74f76bf045ed7f04a5cfc",
       "value": " 1/1 [00:00&lt;00:00,  2.85it/s]"
      }
     },
     "8abf167773424c2ba2172f0be9d120ba": {
      "model_module": "@jupyter-widgets/controls",
      "model_module_version": "1.5.0",
      "model_name": "DescriptionStyleModel",
      "state": {
       "_model_module": "@jupyter-widgets/controls",
       "_model_module_version": "1.5.0",
       "_model_name": "DescriptionStyleModel",
       "_view_count": null,
       "_view_module": "@jupyter-widgets/base",
       "_view_module_version": "1.2.0",
       "_view_name": "StyleView",
       "description_width": ""
      }
     },
     "8e1cbb7e124942d8b0727e54109f7e3b": {
      "model_module": "@jupyter-widgets/controls",
      "model_module_version": "1.5.0",
      "model_name": "HTMLModel",
      "state": {
       "_dom_classes": [],
       "_model_module": "@jupyter-widgets/controls",
       "_model_module_version": "1.5.0",
       "_model_name": "HTMLModel",
       "_view_count": null,
       "_view_module": "@jupyter-widgets/controls",
       "_view_module_version": "1.5.0",
       "_view_name": "HTMLView",
       "description": "",
       "description_tooltip": null,
       "layout": "IPY_MODEL_04e2a7527eb94c0384841aa4fbf82705",
       "placeholder": "​",
       "style": "IPY_MODEL_6e666960966c41488711ff704864aad7",
       "value": " 1/1 [00:00&lt;00:00,  2.50it/s]"
      }
     },
     "9494349bcad54776ab304d5455d513fe": {
      "model_module": "@jupyter-widgets/controls",
      "model_module_version": "1.5.0",
      "model_name": "HTMLModel",
      "state": {
       "_dom_classes": [],
       "_model_module": "@jupyter-widgets/controls",
       "_model_module_version": "1.5.0",
       "_model_name": "HTMLModel",
       "_view_count": null,
       "_view_module": "@jupyter-widgets/controls",
       "_view_module_version": "1.5.0",
       "_view_name": "HTMLView",
       "description": "",
       "description_tooltip": null,
       "layout": "IPY_MODEL_3baad5c95e804decb534fe9505e0438a",
       "placeholder": "​",
       "style": "IPY_MODEL_8abf167773424c2ba2172f0be9d120ba",
       "value": "100%"
      }
     },
     "97d0fe362ac648008382bc067e884d1c": {
      "model_module": "@jupyter-widgets/controls",
      "model_module_version": "1.5.0",
      "model_name": "HTMLModel",
      "state": {
       "_dom_classes": [],
       "_model_module": "@jupyter-widgets/controls",
       "_model_module_version": "1.5.0",
       "_model_name": "HTMLModel",
       "_view_count": null,
       "_view_module": "@jupyter-widgets/controls",
       "_view_module_version": "1.5.0",
       "_view_name": "HTMLView",
       "description": "",
       "description_tooltip": null,
       "layout": "IPY_MODEL_69bdcc7d8dd049faa2a57dedd2d59fda",
       "placeholder": "​",
       "style": "IPY_MODEL_0f41646703264295baa93c88cc622371",
       "value": "100%"
      }
     },
     "a3c7d0a0b909498da60fe2ebef673019": {
      "model_module": "@jupyter-widgets/controls",
      "model_module_version": "1.5.0",
      "model_name": "FloatProgressModel",
      "state": {
       "_dom_classes": [],
       "_model_module": "@jupyter-widgets/controls",
       "_model_module_version": "1.5.0",
       "_model_name": "FloatProgressModel",
       "_view_count": null,
       "_view_module": "@jupyter-widgets/controls",
       "_view_module_version": "1.5.0",
       "_view_name": "ProgressView",
       "bar_style": "success",
       "description": "",
       "description_tooltip": null,
       "layout": "IPY_MODEL_0ae7ea672aca41d29439bf3908490f26",
       "max": 1,
       "min": 0,
       "orientation": "horizontal",
       "style": "IPY_MODEL_ada56e5b006d4a6f8a05686a65f03f04",
       "value": 1
      }
     },
     "ada56e5b006d4a6f8a05686a65f03f04": {
      "model_module": "@jupyter-widgets/controls",
      "model_module_version": "1.5.0",
      "model_name": "ProgressStyleModel",
      "state": {
       "_model_module": "@jupyter-widgets/controls",
       "_model_module_version": "1.5.0",
       "_model_name": "ProgressStyleModel",
       "_view_count": null,
       "_view_module": "@jupyter-widgets/base",
       "_view_module_version": "1.2.0",
       "_view_name": "StyleView",
       "bar_color": null,
       "description_width": ""
      }
     },
     "c083fd53fe3b4070b2255e877616a9c0": {
      "model_module": "@jupyter-widgets/controls",
      "model_module_version": "1.5.0",
      "model_name": "HBoxModel",
      "state": {
       "_dom_classes": [],
       "_model_module": "@jupyter-widgets/controls",
       "_model_module_version": "1.5.0",
       "_model_name": "HBoxModel",
       "_view_count": null,
       "_view_module": "@jupyter-widgets/controls",
       "_view_module_version": "1.5.0",
       "_view_name": "HBoxView",
       "box_style": "",
       "children": [
        "IPY_MODEL_cfcd338ed58c47f89af08ef91f441f6e",
        "IPY_MODEL_a3c7d0a0b909498da60fe2ebef673019",
        "IPY_MODEL_164d2f3891aa4d9886ebd7360de71f2f"
       ],
       "layout": "IPY_MODEL_37f12cacbfcd41fca9402db4778eaad7"
      }
     },
     "c57940180a8e48f4a121265a57dcf8f3": {
      "model_module": "@jupyter-widgets/controls",
      "model_module_version": "1.5.0",
      "model_name": "DescriptionStyleModel",
      "state": {
       "_model_module": "@jupyter-widgets/controls",
       "_model_module_version": "1.5.0",
       "_model_name": "DescriptionStyleModel",
       "_view_count": null,
       "_view_module": "@jupyter-widgets/base",
       "_view_module_version": "1.2.0",
       "_view_name": "StyleView",
       "description_width": ""
      }
     },
     "cbc456437280460c80650f6732cee4ff": {
      "model_module": "@jupyter-widgets/base",
      "model_module_version": "1.2.0",
      "model_name": "LayoutModel",
      "state": {
       "_model_module": "@jupyter-widgets/base",
       "_model_module_version": "1.2.0",
       "_model_name": "LayoutModel",
       "_view_count": null,
       "_view_module": "@jupyter-widgets/base",
       "_view_module_version": "1.2.0",
       "_view_name": "LayoutView",
       "align_content": null,
       "align_items": null,
       "align_self": null,
       "border": null,
       "bottom": null,
       "display": null,
       "flex": null,
       "flex_flow": null,
       "grid_area": null,
       "grid_auto_columns": null,
       "grid_auto_flow": null,
       "grid_auto_rows": null,
       "grid_column": null,
       "grid_gap": null,
       "grid_row": null,
       "grid_template_areas": null,
       "grid_template_columns": null,
       "grid_template_rows": null,
       "height": null,
       "justify_content": null,
       "justify_items": null,
       "left": null,
       "margin": null,
       "max_height": null,
       "max_width": null,
       "min_height": null,
       "min_width": null,
       "object_fit": null,
       "object_position": null,
       "order": null,
       "overflow": null,
       "overflow_x": null,
       "overflow_y": null,
       "padding": null,
       "right": null,
       "top": null,
       "visibility": null,
       "width": null
      }
     },
     "cfcd338ed58c47f89af08ef91f441f6e": {
      "model_module": "@jupyter-widgets/controls",
      "model_module_version": "1.5.0",
      "model_name": "HTMLModel",
      "state": {
       "_dom_classes": [],
       "_model_module": "@jupyter-widgets/controls",
       "_model_module_version": "1.5.0",
       "_model_name": "HTMLModel",
       "_view_count": null,
       "_view_module": "@jupyter-widgets/controls",
       "_view_module_version": "1.5.0",
       "_view_name": "HTMLView",
       "description": "",
       "description_tooltip": null,
       "layout": "IPY_MODEL_57e7d798f58f4e61856157702f9f922b",
       "placeholder": "​",
       "style": "IPY_MODEL_45ea9e1a7eaf4e1eabbf195bb82d3fb0",
       "value": "Batches: 100%"
      }
     },
     "ea878e0c90e94cc8a5e9c4674ff0732e": {
      "model_module": "@jupyter-widgets/base",
      "model_module_version": "1.2.0",
      "model_name": "LayoutModel",
      "state": {
       "_model_module": "@jupyter-widgets/base",
       "_model_module_version": "1.2.0",
       "_model_name": "LayoutModel",
       "_view_count": null,
       "_view_module": "@jupyter-widgets/base",
       "_view_module_version": "1.2.0",
       "_view_name": "LayoutView",
       "align_content": null,
       "align_items": null,
       "align_self": null,
       "border": null,
       "bottom": null,
       "display": null,
       "flex": null,
       "flex_flow": null,
       "grid_area": null,
       "grid_auto_columns": null,
       "grid_auto_flow": null,
       "grid_auto_rows": null,
       "grid_column": null,
       "grid_gap": null,
       "grid_row": null,
       "grid_template_areas": null,
       "grid_template_columns": null,
       "grid_template_rows": null,
       "height": null,
       "justify_content": null,
       "justify_items": null,
       "left": null,
       "margin": null,
       "max_height": null,
       "max_width": null,
       "min_height": null,
       "min_width": null,
       "object_fit": null,
       "object_position": null,
       "order": null,
       "overflow": null,
       "overflow_x": null,
       "overflow_y": null,
       "padding": null,
       "right": null,
       "top": null,
       "visibility": null,
       "width": null
      }
     },
     "eb75ddfcf4394d61bb66904df6c74fc4": {
      "model_module": "@jupyter-widgets/controls",
      "model_module_version": "1.5.0",
      "model_name": "ProgressStyleModel",
      "state": {
       "_model_module": "@jupyter-widgets/controls",
       "_model_module_version": "1.5.0",
       "_model_name": "ProgressStyleModel",
       "_view_count": null,
       "_view_module": "@jupyter-widgets/base",
       "_view_module_version": "1.2.0",
       "_view_name": "StyleView",
       "bar_color": null,
       "description_width": ""
      }
     },
     "f47b31408800495ebfac54bb11e83bda": {
      "model_module": "@jupyter-widgets/base",
      "model_module_version": "1.2.0",
      "model_name": "LayoutModel",
      "state": {
       "_model_module": "@jupyter-widgets/base",
       "_model_module_version": "1.2.0",
       "_model_name": "LayoutModel",
       "_view_count": null,
       "_view_module": "@jupyter-widgets/base",
       "_view_module_version": "1.2.0",
       "_view_name": "LayoutView",
       "align_content": null,
       "align_items": null,
       "align_self": null,
       "border": null,
       "bottom": null,
       "display": null,
       "flex": null,
       "flex_flow": null,
       "grid_area": null,
       "grid_auto_columns": null,
       "grid_auto_flow": null,
       "grid_auto_rows": null,
       "grid_column": null,
       "grid_gap": null,
       "grid_row": null,
       "grid_template_areas": null,
       "grid_template_columns": null,
       "grid_template_rows": null,
       "height": null,
       "justify_content": null,
       "justify_items": null,
       "left": null,
       "margin": null,
       "max_height": null,
       "max_width": null,
       "min_height": null,
       "min_width": null,
       "object_fit": null,
       "object_position": null,
       "order": null,
       "overflow": null,
       "overflow_x": null,
       "overflow_y": null,
       "padding": null,
       "right": null,
       "top": null,
       "visibility": null,
       "width": null
      }
     }
    },
    "version_major": 2,
    "version_minor": 0
   }
  }
 },
 "nbformat": 4,
 "nbformat_minor": 5
}
